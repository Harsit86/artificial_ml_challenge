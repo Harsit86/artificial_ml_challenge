{
 "cells": [
  {
   "cell_type": "markdown",
   "metadata": {},
   "source": [
    "# Bank Marketing - Likelihood of a customer subscribing to a banking product\n",
    "\n",
    "> The objective of the notebook is to create a machine learning model to predict the likelihood of a customer subscribing to a banking product. The dataset is obtained from [Bank Marketing Data Set](https://archive.ics.uci.edu/ml/datasets/bank+marketing#)"
   ]
  },
  {
   "cell_type": "code",
   "execution_count": 1,
   "metadata": {
    "ExecuteTime": {
     "end_time": "2019-03-24T12:25:33.978750Z",
     "start_time": "2019-03-24T12:25:32.664680Z"
    }
   },
   "outputs": [],
   "source": [
    "%load_ext autoreload\n",
    "%autoreload 2\n",
    "%matplotlib inline\n",
    "\n",
    "import os\n",
    "import calendar\n",
    "import datetime\n",
    "import pandas as pd\n",
    "import matplotlib.pyplot as plt\n",
    "import seaborn as sns\n",
    "\n",
    "from sklearn.model_selection import train_test_split\n",
    "from sklearn.pipeline import Pipeline\n",
    "\n",
    "from models.src.data_transformers import (\n",
    "    RawDataTransformer,\n",
    "    ModelDataTransfomer,\n",
    ")\n",
    "from xgboost import XGBClassifier\n",
    "from models.src.config import  BANK_MARKETING_MODEL_PICKLE\n",
    "from sklearn.metrics import (\n",
    "    classification_report,\n",
    "    roc_auc_score\n",
    ")\n",
    "import joblib"
   ]
  },
  {
   "cell_type": "markdown",
   "metadata": {},
   "source": [
    "## Load Data"
   ]
  },
  {
   "cell_type": "code",
   "execution_count": 2,
   "metadata": {
    "ExecuteTime": {
     "end_time": "2019-03-24T12:25:34.111975Z",
     "start_time": "2019-03-24T12:25:33.981522Z"
    }
   },
   "outputs": [
    {
     "data": {
      "text/html": [
       "<div>\n",
       "<style scoped>\n",
       "    .dataframe tbody tr th:only-of-type {\n",
       "        vertical-align: middle;\n",
       "    }\n",
       "\n",
       "    .dataframe tbody tr th {\n",
       "        vertical-align: top;\n",
       "    }\n",
       "\n",
       "    .dataframe thead th {\n",
       "        text-align: right;\n",
       "    }\n",
       "</style>\n",
       "<table border=\"1\" class=\"dataframe\">\n",
       "  <thead>\n",
       "    <tr style=\"text-align: right;\">\n",
       "      <th></th>\n",
       "      <th>age</th>\n",
       "      <th>job</th>\n",
       "      <th>marital</th>\n",
       "      <th>education</th>\n",
       "      <th>default</th>\n",
       "      <th>balance</th>\n",
       "      <th>housing</th>\n",
       "      <th>loan</th>\n",
       "      <th>contact</th>\n",
       "      <th>day</th>\n",
       "      <th>month</th>\n",
       "      <th>duration</th>\n",
       "      <th>campaign</th>\n",
       "      <th>pdays</th>\n",
       "      <th>previous</th>\n",
       "      <th>poutcome</th>\n",
       "      <th>y</th>\n",
       "    </tr>\n",
       "  </thead>\n",
       "  <tbody>\n",
       "    <tr>\n",
       "      <th>0</th>\n",
       "      <td>58</td>\n",
       "      <td>management</td>\n",
       "      <td>married</td>\n",
       "      <td>tertiary</td>\n",
       "      <td>no</td>\n",
       "      <td>2143</td>\n",
       "      <td>yes</td>\n",
       "      <td>no</td>\n",
       "      <td>unknown</td>\n",
       "      <td>5</td>\n",
       "      <td>may</td>\n",
       "      <td>261</td>\n",
       "      <td>1</td>\n",
       "      <td>-1</td>\n",
       "      <td>0</td>\n",
       "      <td>unknown</td>\n",
       "      <td>no</td>\n",
       "    </tr>\n",
       "    <tr>\n",
       "      <th>1</th>\n",
       "      <td>44</td>\n",
       "      <td>technician</td>\n",
       "      <td>single</td>\n",
       "      <td>secondary</td>\n",
       "      <td>no</td>\n",
       "      <td>29</td>\n",
       "      <td>yes</td>\n",
       "      <td>no</td>\n",
       "      <td>unknown</td>\n",
       "      <td>5</td>\n",
       "      <td>may</td>\n",
       "      <td>151</td>\n",
       "      <td>1</td>\n",
       "      <td>-1</td>\n",
       "      <td>0</td>\n",
       "      <td>unknown</td>\n",
       "      <td>no</td>\n",
       "    </tr>\n",
       "    <tr>\n",
       "      <th>2</th>\n",
       "      <td>33</td>\n",
       "      <td>entrepreneur</td>\n",
       "      <td>married</td>\n",
       "      <td>secondary</td>\n",
       "      <td>no</td>\n",
       "      <td>2</td>\n",
       "      <td>yes</td>\n",
       "      <td>yes</td>\n",
       "      <td>unknown</td>\n",
       "      <td>5</td>\n",
       "      <td>may</td>\n",
       "      <td>76</td>\n",
       "      <td>1</td>\n",
       "      <td>-1</td>\n",
       "      <td>0</td>\n",
       "      <td>unknown</td>\n",
       "      <td>no</td>\n",
       "    </tr>\n",
       "    <tr>\n",
       "      <th>3</th>\n",
       "      <td>47</td>\n",
       "      <td>blue-collar</td>\n",
       "      <td>married</td>\n",
       "      <td>unknown</td>\n",
       "      <td>no</td>\n",
       "      <td>1506</td>\n",
       "      <td>yes</td>\n",
       "      <td>no</td>\n",
       "      <td>unknown</td>\n",
       "      <td>5</td>\n",
       "      <td>may</td>\n",
       "      <td>92</td>\n",
       "      <td>1</td>\n",
       "      <td>-1</td>\n",
       "      <td>0</td>\n",
       "      <td>unknown</td>\n",
       "      <td>no</td>\n",
       "    </tr>\n",
       "    <tr>\n",
       "      <th>4</th>\n",
       "      <td>33</td>\n",
       "      <td>unknown</td>\n",
       "      <td>single</td>\n",
       "      <td>unknown</td>\n",
       "      <td>no</td>\n",
       "      <td>1</td>\n",
       "      <td>no</td>\n",
       "      <td>no</td>\n",
       "      <td>unknown</td>\n",
       "      <td>5</td>\n",
       "      <td>may</td>\n",
       "      <td>198</td>\n",
       "      <td>1</td>\n",
       "      <td>-1</td>\n",
       "      <td>0</td>\n",
       "      <td>unknown</td>\n",
       "      <td>no</td>\n",
       "    </tr>\n",
       "  </tbody>\n",
       "</table>\n",
       "</div>"
      ],
      "text/plain": [
       "   age           job  marital  education default  balance housing loan  \\\n",
       "0   58    management  married   tertiary      no     2143     yes   no   \n",
       "1   44    technician   single  secondary      no       29     yes   no   \n",
       "2   33  entrepreneur  married  secondary      no        2     yes  yes   \n",
       "3   47   blue-collar  married    unknown      no     1506     yes   no   \n",
       "4   33       unknown   single    unknown      no        1      no   no   \n",
       "\n",
       "   contact  day month  duration  campaign  pdays  previous poutcome   y  \n",
       "0  unknown    5   may       261         1     -1         0  unknown  no  \n",
       "1  unknown    5   may       151         1     -1         0  unknown  no  \n",
       "2  unknown    5   may        76         1     -1         0  unknown  no  \n",
       "3  unknown    5   may        92         1     -1         0  unknown  no  \n",
       "4  unknown    5   may       198         1     -1         0  unknown  no  "
      ]
     },
     "execution_count": 2,
     "metadata": {},
     "output_type": "execute_result"
    }
   ],
   "source": [
    "DATA_DIR = os.path.join(os.path.abspath(os.path.dirname('__file__')), '../../data')\n",
    "df = pd.read_csv(os.path.join(DATA_DIR, 'bank-full.csv'), sep=';')\n",
    "df.head()"
   ]
  },
  {
   "cell_type": "markdown",
   "metadata": {},
   "source": [
    "## Data Exploration\n",
    "\n",
    "> Simple data exploration and quality checks in preparation for building a ML model."
   ]
  },
  {
   "cell_type": "code",
   "execution_count": 3,
   "metadata": {
    "ExecuteTime": {
     "end_time": "2019-03-24T12:25:34.165147Z",
     "start_time": "2019-03-24T12:25:34.114496Z"
    }
   },
   "outputs": [
    {
     "name": "stdout",
     "output_type": "stream",
     "text": [
      "<class 'pandas.core.frame.DataFrame'>\n",
      "RangeIndex: 45211 entries, 0 to 45210\n",
      "Data columns (total 17 columns):\n",
      "age          45211 non-null int64\n",
      "job          45211 non-null object\n",
      "marital      45211 non-null object\n",
      "education    45211 non-null object\n",
      "default      45211 non-null object\n",
      "balance      45211 non-null int64\n",
      "housing      45211 non-null object\n",
      "loan         45211 non-null object\n",
      "contact      45211 non-null object\n",
      "day          45211 non-null int64\n",
      "month        45211 non-null object\n",
      "duration     45211 non-null int64\n",
      "campaign     45211 non-null int64\n",
      "pdays        45211 non-null int64\n",
      "previous     45211 non-null int64\n",
      "poutcome     45211 non-null object\n",
      "y            45211 non-null object\n",
      "dtypes: int64(7), object(10)\n",
      "memory usage: 5.9+ MB\n"
     ]
    }
   ],
   "source": [
    "df.info()"
   ]
  },
  {
   "cell_type": "markdown",
   "metadata": {},
   "source": [
    "> We have a mixture of continous and categorical features and have 100% fill rates for all the columns. We also know from the dataset, that some of the columns are binary:\n",
    "* default\n",
    "* housing\n",
    "* loan\n",
    "* y - target feature\n",
    "\n",
    "> We will also replace month with the numeric value. The logic for this is encapsulated in [DataFrameTransformer](../src/data_transformers.py) and will be used in a sklearn pipeline to build the model."
   ]
  },
  {
   "cell_type": "code",
   "execution_count": 4,
   "metadata": {
    "ExecuteTime": {
     "end_time": "2019-03-24T12:25:34.293550Z",
     "start_time": "2019-03-24T12:25:34.166915Z"
    }
   },
   "outputs": [
    {
     "name": "stderr",
     "output_type": "stream",
     "text": [
      "2019-03-24 12:25:34,191:INFO:Numerising month\n",
      "2019-03-24 12:25:34,221:INFO:Binarising columns: default\n",
      "2019-03-24 12:25:34,232:INFO:Binarising columns: housing\n",
      "2019-03-24 12:25:34,240:INFO:Binarising columns: loan\n",
      "2019-03-24 12:25:34,250:INFO:Binarising columns: y\n"
     ]
    },
    {
     "name": "stdout",
     "output_type": "stream",
     "text": [
      "<class 'pandas.core.frame.DataFrame'>\n",
      "RangeIndex: 45211 entries, 0 to 45210\n",
      "Data columns (total 17 columns):\n",
      "age          45211 non-null int64\n",
      "job          45211 non-null object\n",
      "marital      45211 non-null object\n",
      "education    45211 non-null object\n",
      "default      45211 non-null int64\n",
      "balance      45211 non-null int64\n",
      "housing      45211 non-null int64\n",
      "loan         45211 non-null int64\n",
      "contact      45211 non-null object\n",
      "day          45211 non-null int64\n",
      "month        45211 non-null int64\n",
      "duration     45211 non-null int64\n",
      "campaign     45211 non-null int64\n",
      "pdays        45211 non-null int64\n",
      "previous     45211 non-null int64\n",
      "poutcome     45211 non-null object\n",
      "y            45211 non-null int64\n",
      "dtypes: int64(12), object(5)\n",
      "memory usage: 5.9+ MB\n"
     ]
    }
   ],
   "source": [
    "dft = RawDataTransformer()\n",
    "df2 = dft.transform(df)\n",
    "df2.info()"
   ]
  },
  {
   "cell_type": "markdown",
   "metadata": {},
   "source": [
    "> `month`, `default`, `housing`, `loan` and `y` are all now numerical features. For categorical features, I will one hot encode them as they are low cardinality."
   ]
  },
  {
   "cell_type": "code",
   "execution_count": 5,
   "metadata": {
    "ExecuteTime": {
     "end_time": "2019-03-24T12:25:34.529516Z",
     "start_time": "2019-03-24T12:25:34.296795Z"
    }
   },
   "outputs": [
    {
     "data": {
      "image/png": "[encoded data removed]",
      "text/plain": [
       "<Figure size 720x504 with 1 Axes>"
      ]
     },
     "metadata": {
      "needs_background": "light"
     },
     "output_type": "display_data"
    }
   ],
   "source": [
    "ax = sns.countplot(x='y', data=df)\n",
    "ax.figure.set_size_inches(10, 7)"
   ]
  },
  {
   "cell_type": "markdown",
   "metadata": {},
   "source": [
    "> There are many negatives compared to positive targets, indicating imbalanced dataset."
   ]
  },
  {
   "cell_type": "markdown",
   "metadata": {},
   "source": [
    "## Model Build\n",
    "\n",
    ">* ML model using sklearn pipeline and XGBoost\n",
    "* The parameters are manually tuned\n",
    "* 70/30 train/test split, stratified on the target feature as it's imbalanced, almost 1:10. Will use `scale_pos_weight` to rebalance the weights according to the target ratios."
   ]
  },
  {
   "cell_type": "code",
   "execution_count": 6,
   "metadata": {
    "ExecuteTime": {
     "end_time": "2019-03-24T12:25:34.587692Z",
     "start_time": "2019-03-24T12:25:34.531990Z"
    }
   },
   "outputs": [],
   "source": [
    "TEST_SIZE = 0.3\n",
    "x_train, x_test, y_train, y_test = train_test_split(\n",
    "    df.drop('y', axis=1), df2['y'], test_size=TEST_SIZE, random_state=42, stratify=df2['y'], shuffle=True\n",
    ")"
   ]
  },
  {
   "cell_type": "markdown",
   "metadata": {},
   "source": [
    "> Random train/test split stratified on the target column because of data imbalance."
   ]
  },
  {
   "cell_type": "code",
   "execution_count": 7,
   "metadata": {
    "ExecuteTime": {
     "end_time": "2019-03-24T12:25:34.834805Z",
     "start_time": "2019-03-24T12:25:34.590289Z"
    }
   },
   "outputs": [
    {
     "name": "stderr",
     "output_type": "stream",
     "text": [
      "2019-03-24 12:25:34,609:INFO:Numerising month\n",
      "2019-03-24 12:25:34,630:INFO:Binarising columns: default\n",
      "2019-03-24 12:25:34,641:INFO:Binarising columns: housing\n",
      "2019-03-24 12:25:34,653:INFO:Binarising columns: loan\n",
      "2019-03-24 12:25:34,685:INFO:Numerising month\n",
      "2019-03-24 12:25:34,705:INFO:Binarising columns: default\n",
      "2019-03-24 12:25:34,712:INFO:Binarising columns: housing\n",
      "2019-03-24 12:25:34,720:INFO:Binarising columns: loan\n",
      "2019-03-24 12:25:34,725:INFO:One hot encode categorical features and concat with continuous features.\n",
      "2019-03-24 12:25:34,783:INFO:Numerising month\n",
      "2019-03-24 12:25:34,794:INFO:Binarising columns: default\n",
      "2019-03-24 12:25:34,797:INFO:Binarising columns: housing\n",
      "2019-03-24 12:25:34,801:INFO:Binarising columns: loan\n",
      "2019-03-24 12:25:34,805:INFO:One hot encode categorical features and concat with continuous features.\n"
     ]
    }
   ],
   "source": [
    "pipe = Pipeline([\n",
    "    ('df_transformer', RawDataTransformer()),\n",
    "    ('model_transformer', ModelDataTransfomer())\n",
    "])\n",
    "pipe = pipe.fit(x_train)\n",
    "X_train = pipe.transform(x_train)\n",
    "X_test = pipe.transform(x_test)"
   ]
  },
  {
   "cell_type": "code",
   "execution_count": 8,
   "metadata": {
    "ExecuteTime": {
     "end_time": "2019-03-24T12:25:50.402030Z",
     "start_time": "2019-03-24T12:25:34.838547Z"
    },
    "scrolled": true
   },
   "outputs": [
    {
     "name": "stdout",
     "output_type": "stream",
     "text": [
      "[0]\tvalidation_0-logloss:0.660939\tvalidation_0-auc:0.840207\tvalidation_1-logloss:0.66106\tvalidation_1-auc:0.8281\n",
      "Multiple eval metrics have been passed: 'validation_1-auc' will be used for early stopping.\n",
      "\n",
      "Will train until validation_1-auc hasn't improved in 50 rounds.\n",
      "[1]\tvalidation_0-logloss:0.634543\tvalidation_0-auc:0.846892\tvalidation_1-logloss:0.634663\tvalidation_1-auc:0.836755\n",
      "[2]\tvalidation_0-logloss:0.612896\tvalidation_0-auc:0.858683\tvalidation_1-logloss:0.613363\tvalidation_1-auc:0.849118\n",
      "[3]\tvalidation_0-logloss:0.595176\tvalidation_0-auc:0.859088\tvalidation_1-logloss:0.595451\tvalidation_1-auc:0.850969\n",
      "[4]\tvalidation_0-logloss:0.579511\tvalidation_0-auc:0.868994\tvalidation_1-logloss:0.579935\tvalidation_1-auc:0.862001\n",
      "[5]\tvalidation_0-logloss:0.566308\tvalidation_0-auc:0.875866\tvalidation_1-logloss:0.566756\tvalidation_1-auc:0.868173\n",
      "[6]\tvalidation_0-logloss:0.554049\tvalidation_0-auc:0.878284\tvalidation_1-logloss:0.554885\tvalidation_1-auc:0.870716\n",
      "[7]\tvalidation_0-logloss:0.544306\tvalidation_0-auc:0.881763\tvalidation_1-logloss:0.545226\tvalidation_1-auc:0.874315\n",
      "[8]\tvalidation_0-logloss:0.5339\tvalidation_0-auc:0.883256\tvalidation_1-logloss:0.53509\tvalidation_1-auc:0.876478\n",
      "[9]\tvalidation_0-logloss:0.525889\tvalidation_0-auc:0.884509\tvalidation_1-logloss:0.527375\tvalidation_1-auc:0.877243\n",
      "[10]\tvalidation_0-logloss:0.519495\tvalidation_0-auc:0.885679\tvalidation_1-logloss:0.521047\tvalidation_1-auc:0.878555\n",
      "[11]\tvalidation_0-logloss:0.512026\tvalidation_0-auc:0.886517\tvalidation_1-logloss:0.513805\tvalidation_1-auc:0.879734\n",
      "[12]\tvalidation_0-logloss:0.507566\tvalidation_0-auc:0.88811\tvalidation_1-logloss:0.50941\tvalidation_1-auc:0.881638\n",
      "[13]\tvalidation_0-logloss:0.501435\tvalidation_0-auc:0.8894\tvalidation_1-logloss:0.503238\tvalidation_1-auc:0.882717\n",
      "[14]\tvalidation_0-logloss:0.497511\tvalidation_0-auc:0.890403\tvalidation_1-logloss:0.499467\tvalidation_1-auc:0.883633\n",
      "[15]\tvalidation_0-logloss:0.4925\tvalidation_0-auc:0.891662\tvalidation_1-logloss:0.494434\tvalidation_1-auc:0.885131\n",
      "[16]\tvalidation_0-logloss:0.489462\tvalidation_0-auc:0.893102\tvalidation_1-logloss:0.491409\tvalidation_1-auc:0.886845\n",
      "[17]\tvalidation_0-logloss:0.485019\tvalidation_0-auc:0.893841\tvalidation_1-logloss:0.487113\tvalidation_1-auc:0.887684\n",
      "[18]\tvalidation_0-logloss:0.482139\tvalidation_0-auc:0.894361\tvalidation_1-logloss:0.484393\tvalidation_1-auc:0.888226\n",
      "[19]\tvalidation_0-logloss:0.480004\tvalidation_0-auc:0.894911\tvalidation_1-logloss:0.482343\tvalidation_1-auc:0.888508\n",
      "[20]\tvalidation_0-logloss:0.475813\tvalidation_0-auc:0.896205\tvalidation_1-logloss:0.478177\tvalidation_1-auc:0.890214\n",
      "[21]\tvalidation_0-logloss:0.473673\tvalidation_0-auc:0.896711\tvalidation_1-logloss:0.476141\tvalidation_1-auc:0.89041\n",
      "[22]\tvalidation_0-logloss:0.470574\tvalidation_0-auc:0.897386\tvalidation_1-logloss:0.472998\tvalidation_1-auc:0.891104\n",
      "[23]\tvalidation_0-logloss:0.468581\tvalidation_0-auc:0.898418\tvalidation_1-logloss:0.471164\tvalidation_1-auc:0.891976\n",
      "[24]\tvalidation_0-logloss:0.465869\tvalidation_0-auc:0.899324\tvalidation_1-logloss:0.468599\tvalidation_1-auc:0.892586\n",
      "[25]\tvalidation_0-logloss:0.463085\tvalidation_0-auc:0.900524\tvalidation_1-logloss:0.465809\tvalidation_1-auc:0.893673\n",
      "[26]\tvalidation_0-logloss:0.461313\tvalidation_0-auc:0.901215\tvalidation_1-logloss:0.46399\tvalidation_1-auc:0.894301\n",
      "[27]\tvalidation_0-logloss:0.459106\tvalidation_0-auc:0.901769\tvalidation_1-logloss:0.462006\tvalidation_1-auc:0.894689\n",
      "[28]\tvalidation_0-logloss:0.456676\tvalidation_0-auc:0.90297\tvalidation_1-logloss:0.459603\tvalidation_1-auc:0.895917\n",
      "[29]\tvalidation_0-logloss:0.454477\tvalidation_0-auc:0.904224\tvalidation_1-logloss:0.457382\tvalidation_1-auc:0.897049\n",
      "[30]\tvalidation_0-logloss:0.452984\tvalidation_0-auc:0.904807\tvalidation_1-logloss:0.455715\tvalidation_1-auc:0.897776\n",
      "[31]\tvalidation_0-logloss:0.450837\tvalidation_0-auc:0.905735\tvalidation_1-logloss:0.453624\tvalidation_1-auc:0.89876\n",
      "[32]\tvalidation_0-logloss:0.446616\tvalidation_0-auc:0.907862\tvalidation_1-logloss:0.449272\tvalidation_1-auc:0.900843\n",
      "[33]\tvalidation_0-logloss:0.445446\tvalidation_0-auc:0.908422\tvalidation_1-logloss:0.448177\tvalidation_1-auc:0.901219\n",
      "[34]\tvalidation_0-logloss:0.443647\tvalidation_0-auc:0.909133\tvalidation_1-logloss:0.446426\tvalidation_1-auc:0.901901\n",
      "[35]\tvalidation_0-logloss:0.441626\tvalidation_0-auc:0.909989\tvalidation_1-logloss:0.444678\tvalidation_1-auc:0.902524\n",
      "[36]\tvalidation_0-logloss:0.439973\tvalidation_0-auc:0.910645\tvalidation_1-logloss:0.443192\tvalidation_1-auc:0.902887\n",
      "[37]\tvalidation_0-logloss:0.438601\tvalidation_0-auc:0.910809\tvalidation_1-logloss:0.441934\tvalidation_1-auc:0.902966\n",
      "[38]\tvalidation_0-logloss:0.436573\tvalidation_0-auc:0.912002\tvalidation_1-logloss:0.439836\tvalidation_1-auc:0.904222\n",
      "[39]\tvalidation_0-logloss:0.435109\tvalidation_0-auc:0.91266\tvalidation_1-logloss:0.438451\tvalidation_1-auc:0.904945\n",
      "[40]\tvalidation_0-logloss:0.43389\tvalidation_0-auc:0.913081\tvalidation_1-logloss:0.43721\tvalidation_1-auc:0.905427\n",
      "[41]\tvalidation_0-logloss:0.432603\tvalidation_0-auc:0.91371\tvalidation_1-logloss:0.435851\tvalidation_1-auc:0.905965\n",
      "[42]\tvalidation_0-logloss:0.431295\tvalidation_0-auc:0.914312\tvalidation_1-logloss:0.434549\tvalidation_1-auc:0.906295\n",
      "[43]\tvalidation_0-logloss:0.429868\tvalidation_0-auc:0.914906\tvalidation_1-logloss:0.433314\tvalidation_1-auc:0.906659\n",
      "[44]\tvalidation_0-logloss:0.428468\tvalidation_0-auc:0.915562\tvalidation_1-logloss:0.431895\tvalidation_1-auc:0.90729\n",
      "[45]\tvalidation_0-logloss:0.427409\tvalidation_0-auc:0.91581\tvalidation_1-logloss:0.430932\tvalidation_1-auc:0.90746\n",
      "[46]\tvalidation_0-logloss:0.42639\tvalidation_0-auc:0.916106\tvalidation_1-logloss:0.430086\tvalidation_1-auc:0.907592\n",
      "[47]\tvalidation_0-logloss:0.424738\tvalidation_0-auc:0.916803\tvalidation_1-logloss:0.428489\tvalidation_1-auc:0.90817\n",
      "[48]\tvalidation_0-logloss:0.423878\tvalidation_0-auc:0.917087\tvalidation_1-logloss:0.427729\tvalidation_1-auc:0.908399\n",
      "[49]\tvalidation_0-logloss:0.422796\tvalidation_0-auc:0.917497\tvalidation_1-logloss:0.426737\tvalidation_1-auc:0.908701\n",
      "[50]\tvalidation_0-logloss:0.422148\tvalidation_0-auc:0.917752\tvalidation_1-logloss:0.426174\tvalidation_1-auc:0.908888\n",
      "[51]\tvalidation_0-logloss:0.420842\tvalidation_0-auc:0.918283\tvalidation_1-logloss:0.424795\tvalidation_1-auc:0.909447\n",
      "[52]\tvalidation_0-logloss:0.419609\tvalidation_0-auc:0.918827\tvalidation_1-logloss:0.423738\tvalidation_1-auc:0.909953\n",
      "[53]\tvalidation_0-logloss:0.418392\tvalidation_0-auc:0.919223\tvalidation_1-logloss:0.422521\tvalidation_1-auc:0.910273\n",
      "[54]\tvalidation_0-logloss:0.417329\tvalidation_0-auc:0.919664\tvalidation_1-logloss:0.421499\tvalidation_1-auc:0.910656\n",
      "[55]\tvalidation_0-logloss:0.416267\tvalidation_0-auc:0.920072\tvalidation_1-logloss:0.420467\tvalidation_1-auc:0.910896\n",
      "[56]\tvalidation_0-logloss:0.415457\tvalidation_0-auc:0.920306\tvalidation_1-logloss:0.419712\tvalidation_1-auc:0.911066\n",
      "[57]\tvalidation_0-logloss:0.414759\tvalidation_0-auc:0.920468\tvalidation_1-logloss:0.419001\tvalidation_1-auc:0.9112\n",
      "[58]\tvalidation_0-logloss:0.413685\tvalidation_0-auc:0.920947\tvalidation_1-logloss:0.418108\tvalidation_1-auc:0.911529\n",
      "[59]\tvalidation_0-logloss:0.411691\tvalidation_0-auc:0.921802\tvalidation_1-logloss:0.416107\tvalidation_1-auc:0.912594\n",
      "[60]\tvalidation_0-logloss:0.410745\tvalidation_0-auc:0.922095\tvalidation_1-logloss:0.415311\tvalidation_1-auc:0.912876\n",
      "[61]\tvalidation_0-logloss:0.410113\tvalidation_0-auc:0.922387\tvalidation_1-logloss:0.414781\tvalidation_1-auc:0.913058\n",
      "[62]\tvalidation_0-logloss:0.409522\tvalidation_0-auc:0.922631\tvalidation_1-logloss:0.414235\tvalidation_1-auc:0.913272\n",
      "[63]\tvalidation_0-logloss:0.408455\tvalidation_0-auc:0.923109\tvalidation_1-logloss:0.413426\tvalidation_1-auc:0.913579\n",
      "[64]\tvalidation_0-logloss:0.407698\tvalidation_0-auc:0.923322\tvalidation_1-logloss:0.412702\tvalidation_1-auc:0.913642\n",
      "[65]\tvalidation_0-logloss:0.407042\tvalidation_0-auc:0.923519\tvalidation_1-logloss:0.412148\tvalidation_1-auc:0.913734\n",
      "[66]\tvalidation_0-logloss:0.406413\tvalidation_0-auc:0.923608\tvalidation_1-logloss:0.411478\tvalidation_1-auc:0.913873\n",
      "[67]\tvalidation_0-logloss:0.405791\tvalidation_0-auc:0.923842\tvalidation_1-logloss:0.411005\tvalidation_1-auc:0.914\n",
      "[68]\tvalidation_0-logloss:0.405175\tvalidation_0-auc:0.924113\tvalidation_1-logloss:0.410405\tvalidation_1-auc:0.914245\n",
      "[69]\tvalidation_0-logloss:0.404642\tvalidation_0-auc:0.924272\tvalidation_1-logloss:0.409999\tvalidation_1-auc:0.914337\n"
     ]
    },
    {
     "name": "stdout",
     "output_type": "stream",
     "text": [
      "[70]\tvalidation_0-logloss:0.404025\tvalidation_0-auc:0.924518\tvalidation_1-logloss:0.409348\tvalidation_1-auc:0.914692\n",
      "[71]\tvalidation_0-logloss:0.403539\tvalidation_0-auc:0.924614\tvalidation_1-logloss:0.40884\tvalidation_1-auc:0.914761\n",
      "[72]\tvalidation_0-logloss:0.402237\tvalidation_0-auc:0.925168\tvalidation_1-logloss:0.407502\tvalidation_1-auc:0.91531\n",
      "[73]\tvalidation_0-logloss:0.400551\tvalidation_0-auc:0.92594\tvalidation_1-logloss:0.40569\tvalidation_1-auc:0.916126\n",
      "[74]\tvalidation_0-logloss:0.399796\tvalidation_0-auc:0.926253\tvalidation_1-logloss:0.405156\tvalidation_1-auc:0.916283\n",
      "[75]\tvalidation_0-logloss:0.398484\tvalidation_0-auc:0.926725\tvalidation_1-logloss:0.40401\tvalidation_1-auc:0.91663\n",
      "[76]\tvalidation_0-logloss:0.397974\tvalidation_0-auc:0.926933\tvalidation_1-logloss:0.403542\tvalidation_1-auc:0.916829\n",
      "[77]\tvalidation_0-logloss:0.396892\tvalidation_0-auc:0.927381\tvalidation_1-logloss:0.402478\tvalidation_1-auc:0.91721\n",
      "[78]\tvalidation_0-logloss:0.395234\tvalidation_0-auc:0.928131\tvalidation_1-logloss:0.400809\tvalidation_1-auc:0.917927\n",
      "[79]\tvalidation_0-logloss:0.39353\tvalidation_0-auc:0.928773\tvalidation_1-logloss:0.399044\tvalidation_1-auc:0.918568\n",
      "[80]\tvalidation_0-logloss:0.393113\tvalidation_0-auc:0.928948\tvalidation_1-logloss:0.398662\tvalidation_1-auc:0.918705\n",
      "[81]\tvalidation_0-logloss:0.39261\tvalidation_0-auc:0.929056\tvalidation_1-logloss:0.398103\tvalidation_1-auc:0.918781\n",
      "[82]\tvalidation_0-logloss:0.391898\tvalidation_0-auc:0.929225\tvalidation_1-logloss:0.397382\tvalidation_1-auc:0.918922\n",
      "[83]\tvalidation_0-logloss:0.391546\tvalidation_0-auc:0.929313\tvalidation_1-logloss:0.397065\tvalidation_1-auc:0.91897\n",
      "[84]\tvalidation_0-logloss:0.391058\tvalidation_0-auc:0.929475\tvalidation_1-logloss:0.396701\tvalidation_1-auc:0.919075\n",
      "[85]\tvalidation_0-logloss:0.390628\tvalidation_0-auc:0.92962\tvalidation_1-logloss:0.396339\tvalidation_1-auc:0.919209\n",
      "[86]\tvalidation_0-logloss:0.390177\tvalidation_0-auc:0.929675\tvalidation_1-logloss:0.396059\tvalidation_1-auc:0.919141\n",
      "[87]\tvalidation_0-logloss:0.389046\tvalidation_0-auc:0.930149\tvalidation_1-logloss:0.394868\tvalidation_1-auc:0.919617\n",
      "[88]\tvalidation_0-logloss:0.38776\tvalidation_0-auc:0.930732\tvalidation_1-logloss:0.393604\tvalidation_1-auc:0.920219\n",
      "[89]\tvalidation_0-logloss:0.387402\tvalidation_0-auc:0.930866\tvalidation_1-logloss:0.393294\tvalidation_1-auc:0.920289\n",
      "[90]\tvalidation_0-logloss:0.386493\tvalidation_0-auc:0.931223\tvalidation_1-logloss:0.392362\tvalidation_1-auc:0.92066\n",
      "[91]\tvalidation_0-logloss:0.386097\tvalidation_0-auc:0.931311\tvalidation_1-logloss:0.392082\tvalidation_1-auc:0.92068\n",
      "[92]\tvalidation_0-logloss:0.385717\tvalidation_0-auc:0.93142\tvalidation_1-logloss:0.391772\tvalidation_1-auc:0.920791\n",
      "[93]\tvalidation_0-logloss:0.384712\tvalidation_0-auc:0.931753\tvalidation_1-logloss:0.39081\tvalidation_1-auc:0.921107\n",
      "[94]\tvalidation_0-logloss:0.384369\tvalidation_0-auc:0.931861\tvalidation_1-logloss:0.390534\tvalidation_1-auc:0.921209\n",
      "[95]\tvalidation_0-logloss:0.383922\tvalidation_0-auc:0.932022\tvalidation_1-logloss:0.390299\tvalidation_1-auc:0.921247\n",
      "[96]\tvalidation_0-logloss:0.383726\tvalidation_0-auc:0.932088\tvalidation_1-logloss:0.390105\tvalidation_1-auc:0.921307\n",
      "[97]\tvalidation_0-logloss:0.383352\tvalidation_0-auc:0.932244\tvalidation_1-logloss:0.389848\tvalidation_1-auc:0.921385\n",
      "[98]\tvalidation_0-logloss:0.38248\tvalidation_0-auc:0.9326\tvalidation_1-logloss:0.388925\tvalidation_1-auc:0.921746\n",
      "[99]\tvalidation_0-logloss:0.381643\tvalidation_0-auc:0.932845\tvalidation_1-logloss:0.388125\tvalidation_1-auc:0.922002\n",
      "[100]\tvalidation_0-logloss:0.381352\tvalidation_0-auc:0.932873\tvalidation_1-logloss:0.38793\tvalidation_1-auc:0.921982\n",
      "[101]\tvalidation_0-logloss:0.380958\tvalidation_0-auc:0.932985\tvalidation_1-logloss:0.38767\tvalidation_1-auc:0.922009\n",
      "[102]\tvalidation_0-logloss:0.380795\tvalidation_0-auc:0.933036\tvalidation_1-logloss:0.387547\tvalidation_1-auc:0.921993\n",
      "[103]\tvalidation_0-logloss:0.380429\tvalidation_0-auc:0.933159\tvalidation_1-logloss:0.387368\tvalidation_1-auc:0.921949\n",
      "[104]\tvalidation_0-logloss:0.380059\tvalidation_0-auc:0.933316\tvalidation_1-logloss:0.387154\tvalidation_1-auc:0.921943\n",
      "[105]\tvalidation_0-logloss:0.379629\tvalidation_0-auc:0.933424\tvalidation_1-logloss:0.386938\tvalidation_1-auc:0.92194\n",
      "[106]\tvalidation_0-logloss:0.379131\tvalidation_0-auc:0.933614\tvalidation_1-logloss:0.386446\tvalidation_1-auc:0.92213\n",
      "[107]\tvalidation_0-logloss:0.378619\tvalidation_0-auc:0.933767\tvalidation_1-logloss:0.386063\tvalidation_1-auc:0.922232\n",
      "[108]\tvalidation_0-logloss:0.37845\tvalidation_0-auc:0.933824\tvalidation_1-logloss:0.385922\tvalidation_1-auc:0.922235\n",
      "[109]\tvalidation_0-logloss:0.378155\tvalidation_0-auc:0.933906\tvalidation_1-logloss:0.385686\tvalidation_1-auc:0.922233\n",
      "[110]\tvalidation_0-logloss:0.377838\tvalidation_0-auc:0.933952\tvalidation_1-logloss:0.385397\tvalidation_1-auc:0.922226\n",
      "[111]\tvalidation_0-logloss:0.377501\tvalidation_0-auc:0.934079\tvalidation_1-logloss:0.385109\tvalidation_1-auc:0.922289\n",
      "[112]\tvalidation_0-logloss:0.376788\tvalidation_0-auc:0.934361\tvalidation_1-logloss:0.38435\tvalidation_1-auc:0.92256\n",
      "[113]\tvalidation_0-logloss:0.376338\tvalidation_0-auc:0.934488\tvalidation_1-logloss:0.383793\tvalidation_1-auc:0.922711\n",
      "[114]\tvalidation_0-logloss:0.375411\tvalidation_0-auc:0.934842\tvalidation_1-logloss:0.382877\tvalidation_1-auc:0.923043\n",
      "[115]\tvalidation_0-logloss:0.375192\tvalidation_0-auc:0.934872\tvalidation_1-logloss:0.382692\tvalidation_1-auc:0.923044\n",
      "[116]\tvalidation_0-logloss:0.375059\tvalidation_0-auc:0.934915\tvalidation_1-logloss:0.382582\tvalidation_1-auc:0.923071\n",
      "[117]\tvalidation_0-logloss:0.374745\tvalidation_0-auc:0.935044\tvalidation_1-logloss:0.382429\tvalidation_1-auc:0.92306\n",
      "[118]\tvalidation_0-logloss:0.374493\tvalidation_0-auc:0.935121\tvalidation_1-logloss:0.38219\tvalidation_1-auc:0.923064\n",
      "[119]\tvalidation_0-logloss:0.373549\tvalidation_0-auc:0.935497\tvalidation_1-logloss:0.381244\tvalidation_1-auc:0.923522\n",
      "[120]\tvalidation_0-logloss:0.373191\tvalidation_0-auc:0.935601\tvalidation_1-logloss:0.381017\tvalidation_1-auc:0.92355\n",
      "[121]\tvalidation_0-logloss:0.372859\tvalidation_0-auc:0.935672\tvalidation_1-logloss:0.380702\tvalidation_1-auc:0.923579\n",
      "[122]\tvalidation_0-logloss:0.37228\tvalidation_0-auc:0.935912\tvalidation_1-logloss:0.380166\tvalidation_1-auc:0.923776\n",
      "[123]\tvalidation_0-logloss:0.372056\tvalidation_0-auc:0.935974\tvalidation_1-logloss:0.380022\tvalidation_1-auc:0.92378\n",
      "[124]\tvalidation_0-logloss:0.37176\tvalidation_0-auc:0.936096\tvalidation_1-logloss:0.379779\tvalidation_1-auc:0.923825\n",
      "[125]\tvalidation_0-logloss:0.371385\tvalidation_0-auc:0.936224\tvalidation_1-logloss:0.379441\tvalidation_1-auc:0.923956\n",
      "[126]\tvalidation_0-logloss:0.370667\tvalidation_0-auc:0.936486\tvalidation_1-logloss:0.378738\tvalidation_1-auc:0.924204\n",
      "[127]\tvalidation_0-logloss:0.370621\tvalidation_0-auc:0.936511\tvalidation_1-logloss:0.378722\tvalidation_1-auc:0.924186\n",
      "[128]\tvalidation_0-logloss:0.370067\tvalidation_0-auc:0.93667\tvalidation_1-logloss:0.378278\tvalidation_1-auc:0.924296\n",
      "[129]\tvalidation_0-logloss:0.369478\tvalidation_0-auc:0.936871\tvalidation_1-logloss:0.377691\tvalidation_1-auc:0.924486\n",
      "[130]\tvalidation_0-logloss:0.369221\tvalidation_0-auc:0.936979\tvalidation_1-logloss:0.377536\tvalidation_1-auc:0.924511\n",
      "[131]\tvalidation_0-logloss:0.368906\tvalidation_0-auc:0.937077\tvalidation_1-logloss:0.377278\tvalidation_1-auc:0.924616\n",
      "[132]\tvalidation_0-logloss:0.367931\tvalidation_0-auc:0.937443\tvalidation_1-logloss:0.376315\tvalidation_1-auc:0.925021\n",
      "[133]\tvalidation_0-logloss:0.367643\tvalidation_0-auc:0.937514\tvalidation_1-logloss:0.376083\tvalidation_1-auc:0.92505\n",
      "[134]\tvalidation_0-logloss:0.367452\tvalidation_0-auc:0.93754\tvalidation_1-logloss:0.375931\tvalidation_1-auc:0.925057\n",
      "[135]\tvalidation_0-logloss:0.367016\tvalidation_0-auc:0.937699\tvalidation_1-logloss:0.375647\tvalidation_1-auc:0.925112\n",
      "[136]\tvalidation_0-logloss:0.366782\tvalidation_0-auc:0.937774\tvalidation_1-logloss:0.375548\tvalidation_1-auc:0.925139\n",
      "[137]\tvalidation_0-logloss:0.366733\tvalidation_0-auc:0.937791\tvalidation_1-logloss:0.375514\tvalidation_1-auc:0.925123\n",
      "[138]\tvalidation_0-logloss:0.366568\tvalidation_0-auc:0.937822\tvalidation_1-logloss:0.37538\tvalidation_1-auc:0.925145\n",
      "[139]\tvalidation_0-logloss:0.366382\tvalidation_0-auc:0.937885\tvalidation_1-logloss:0.375313\tvalidation_1-auc:0.925121\n"
     ]
    },
    {
     "name": "stdout",
     "output_type": "stream",
     "text": [
      "[140]\tvalidation_0-logloss:0.365923\tvalidation_0-auc:0.937988\tvalidation_1-logloss:0.374938\tvalidation_1-auc:0.92519\n",
      "[141]\tvalidation_0-logloss:0.365649\tvalidation_0-auc:0.938084\tvalidation_1-logloss:0.374657\tvalidation_1-auc:0.925288\n",
      "[142]\tvalidation_0-logloss:0.365521\tvalidation_0-auc:0.93813\tvalidation_1-logloss:0.37461\tvalidation_1-auc:0.925284\n",
      "[143]\tvalidation_0-logloss:0.365235\tvalidation_0-auc:0.938253\tvalidation_1-logloss:0.374402\tvalidation_1-auc:0.925275\n",
      "[144]\tvalidation_0-logloss:0.364657\tvalidation_0-auc:0.938464\tvalidation_1-logloss:0.37378\tvalidation_1-auc:0.925497\n",
      "[145]\tvalidation_0-logloss:0.36448\tvalidation_0-auc:0.938498\tvalidation_1-logloss:0.373649\tvalidation_1-auc:0.925496\n",
      "[146]\tvalidation_0-logloss:0.363843\tvalidation_0-auc:0.938745\tvalidation_1-logloss:0.373037\tvalidation_1-auc:0.925747\n",
      "[147]\tvalidation_0-logloss:0.363546\tvalidation_0-auc:0.93881\tvalidation_1-logloss:0.372954\tvalidation_1-auc:0.925641\n",
      "[148]\tvalidation_0-logloss:0.363478\tvalidation_0-auc:0.93883\tvalidation_1-logloss:0.372947\tvalidation_1-auc:0.92559\n",
      "[149]\tvalidation_0-logloss:0.362777\tvalidation_0-auc:0.939085\tvalidation_1-logloss:0.372268\tvalidation_1-auc:0.925882\n",
      "[150]\tvalidation_0-logloss:0.362455\tvalidation_0-auc:0.93915\tvalidation_1-logloss:0.371981\tvalidation_1-auc:0.925929\n",
      "[151]\tvalidation_0-logloss:0.361722\tvalidation_0-auc:0.939353\tvalidation_1-logloss:0.371381\tvalidation_1-auc:0.926146\n",
      "[152]\tvalidation_0-logloss:0.361383\tvalidation_0-auc:0.939475\tvalidation_1-logloss:0.370987\tvalidation_1-auc:0.92626\n",
      "[153]\tvalidation_0-logloss:0.361337\tvalidation_0-auc:0.939499\tvalidation_1-logloss:0.370973\tvalidation_1-auc:0.926243\n",
      "[154]\tvalidation_0-logloss:0.361077\tvalidation_0-auc:0.939603\tvalidation_1-logloss:0.370781\tvalidation_1-auc:0.926298\n",
      "[155]\tvalidation_0-logloss:0.360824\tvalidation_0-auc:0.939698\tvalidation_1-logloss:0.370659\tvalidation_1-auc:0.926272\n",
      "[156]\tvalidation_0-logloss:0.36066\tvalidation_0-auc:0.939737\tvalidation_1-logloss:0.370596\tvalidation_1-auc:0.92622\n",
      "[157]\tvalidation_0-logloss:0.360366\tvalidation_0-auc:0.939843\tvalidation_1-logloss:0.370336\tvalidation_1-auc:0.926278\n",
      "[158]\tvalidation_0-logloss:0.360198\tvalidation_0-auc:0.939903\tvalidation_1-logloss:0.37025\tvalidation_1-auc:0.92629\n",
      "[159]\tvalidation_0-logloss:0.360044\tvalidation_0-auc:0.939949\tvalidation_1-logloss:0.370197\tvalidation_1-auc:0.926268\n",
      "[160]\tvalidation_0-logloss:0.35963\tvalidation_0-auc:0.940092\tvalidation_1-logloss:0.369736\tvalidation_1-auc:0.926462\n",
      "[161]\tvalidation_0-logloss:0.359014\tvalidation_0-auc:0.940284\tvalidation_1-logloss:0.369139\tvalidation_1-auc:0.926735\n",
      "[162]\tvalidation_0-logloss:0.358424\tvalidation_0-auc:0.940494\tvalidation_1-logloss:0.368629\tvalidation_1-auc:0.926894\n",
      "[163]\tvalidation_0-logloss:0.358175\tvalidation_0-auc:0.940552\tvalidation_1-logloss:0.368496\tvalidation_1-auc:0.926896\n",
      "[164]\tvalidation_0-logloss:0.358119\tvalidation_0-auc:0.940579\tvalidation_1-logloss:0.368485\tvalidation_1-auc:0.926886\n",
      "[165]\tvalidation_0-logloss:0.357642\tvalidation_0-auc:0.940687\tvalidation_1-logloss:0.368028\tvalidation_1-auc:0.927007\n",
      "[166]\tvalidation_0-logloss:0.357157\tvalidation_0-auc:0.940848\tvalidation_1-logloss:0.3677\tvalidation_1-auc:0.927107\n",
      "[167]\tvalidation_0-logloss:0.356916\tvalidation_0-auc:0.940928\tvalidation_1-logloss:0.367523\tvalidation_1-auc:0.927161\n",
      "[168]\tvalidation_0-logloss:0.356323\tvalidation_0-auc:0.941136\tvalidation_1-logloss:0.366972\tvalidation_1-auc:0.927368\n",
      "[169]\tvalidation_0-logloss:0.356027\tvalidation_0-auc:0.941191\tvalidation_1-logloss:0.366716\tvalidation_1-auc:0.927414\n",
      "[170]\tvalidation_0-logloss:0.355965\tvalidation_0-auc:0.941207\tvalidation_1-logloss:0.366678\tvalidation_1-auc:0.927413\n",
      "[171]\tvalidation_0-logloss:0.355867\tvalidation_0-auc:0.941244\tvalidation_1-logloss:0.366699\tvalidation_1-auc:0.927378\n",
      "[172]\tvalidation_0-logloss:0.355557\tvalidation_0-auc:0.941352\tvalidation_1-logloss:0.366319\tvalidation_1-auc:0.927493\n",
      "[173]\tvalidation_0-logloss:0.355375\tvalidation_0-auc:0.941383\tvalidation_1-logloss:0.366288\tvalidation_1-auc:0.927458\n",
      "[174]\tvalidation_0-logloss:0.355252\tvalidation_0-auc:0.941411\tvalidation_1-logloss:0.366198\tvalidation_1-auc:0.927456\n",
      "[175]\tvalidation_0-logloss:0.355205\tvalidation_0-auc:0.941433\tvalidation_1-logloss:0.366179\tvalidation_1-auc:0.927448\n",
      "[176]\tvalidation_0-logloss:0.354942\tvalidation_0-auc:0.941538\tvalidation_1-logloss:0.366052\tvalidation_1-auc:0.927438\n",
      "[177]\tvalidation_0-logloss:0.354693\tvalidation_0-auc:0.94162\tvalidation_1-logloss:0.36579\tvalidation_1-auc:0.927516\n",
      "[178]\tvalidation_0-logloss:0.354574\tvalidation_0-auc:0.941658\tvalidation_1-logloss:0.365728\tvalidation_1-auc:0.92748\n",
      "[179]\tvalidation_0-logloss:0.354274\tvalidation_0-auc:0.941768\tvalidation_1-logloss:0.365553\tvalidation_1-auc:0.927512\n",
      "[180]\tvalidation_0-logloss:0.354226\tvalidation_0-auc:0.941784\tvalidation_1-logloss:0.365552\tvalidation_1-auc:0.927507\n",
      "[181]\tvalidation_0-logloss:0.35405\tvalidation_0-auc:0.941853\tvalidation_1-logloss:0.365412\tvalidation_1-auc:0.927518\n",
      "[182]\tvalidation_0-logloss:0.353921\tvalidation_0-auc:0.941873\tvalidation_1-logloss:0.365389\tvalidation_1-auc:0.927455\n",
      "[183]\tvalidation_0-logloss:0.353695\tvalidation_0-auc:0.941908\tvalidation_1-logloss:0.365202\tvalidation_1-auc:0.927492\n",
      "[184]\tvalidation_0-logloss:0.35324\tvalidation_0-auc:0.94205\tvalidation_1-logloss:0.364784\tvalidation_1-auc:0.927701\n",
      "[185]\tvalidation_0-logloss:0.353121\tvalidation_0-auc:0.942084\tvalidation_1-logloss:0.364706\tvalidation_1-auc:0.927731\n",
      "[186]\tvalidation_0-logloss:0.352746\tvalidation_0-auc:0.942211\tvalidation_1-logloss:0.364391\tvalidation_1-auc:0.927777\n",
      "[187]\tvalidation_0-logloss:0.352544\tvalidation_0-auc:0.942279\tvalidation_1-logloss:0.364272\tvalidation_1-auc:0.927759\n",
      "[188]\tvalidation_0-logloss:0.352407\tvalidation_0-auc:0.942328\tvalidation_1-logloss:0.364232\tvalidation_1-auc:0.927733\n",
      "[189]\tvalidation_0-logloss:0.352368\tvalidation_0-auc:0.942343\tvalidation_1-logloss:0.364222\tvalidation_1-auc:0.927717\n",
      "[190]\tvalidation_0-logloss:0.351989\tvalidation_0-auc:0.942488\tvalidation_1-logloss:0.363895\tvalidation_1-auc:0.927851\n",
      "[191]\tvalidation_0-logloss:0.351604\tvalidation_0-auc:0.942615\tvalidation_1-logloss:0.363481\tvalidation_1-auc:0.92798\n",
      "[192]\tvalidation_0-logloss:0.35136\tvalidation_0-auc:0.942666\tvalidation_1-logloss:0.363407\tvalidation_1-auc:0.927923\n",
      "[193]\tvalidation_0-logloss:0.351167\tvalidation_0-auc:0.942744\tvalidation_1-logloss:0.363296\tvalidation_1-auc:0.927899\n",
      "[194]\tvalidation_0-logloss:0.350997\tvalidation_0-auc:0.942808\tvalidation_1-logloss:0.363205\tvalidation_1-auc:0.927879\n",
      "[195]\tvalidation_0-logloss:0.35087\tvalidation_0-auc:0.942836\tvalidation_1-logloss:0.363101\tvalidation_1-auc:0.927887\n",
      "[196]\tvalidation_0-logloss:0.350601\tvalidation_0-auc:0.942923\tvalidation_1-logloss:0.362795\tvalidation_1-auc:0.928004\n",
      "[197]\tvalidation_0-logloss:0.350559\tvalidation_0-auc:0.942941\tvalidation_1-logloss:0.362788\tvalidation_1-auc:0.927989\n",
      "[198]\tvalidation_0-logloss:0.350409\tvalidation_0-auc:0.943001\tvalidation_1-logloss:0.362735\tvalidation_1-auc:0.927994\n",
      "[199]\tvalidation_0-logloss:0.350068\tvalidation_0-auc:0.943122\tvalidation_1-logloss:0.362383\tvalidation_1-auc:0.92811\n",
      "[200]\tvalidation_0-logloss:0.349905\tvalidation_0-auc:0.943156\tvalidation_1-logloss:0.362332\tvalidation_1-auc:0.928099\n",
      "[201]\tvalidation_0-logloss:0.34987\tvalidation_0-auc:0.94317\tvalidation_1-logloss:0.36232\tvalidation_1-auc:0.92809\n",
      "[202]\tvalidation_0-logloss:0.349768\tvalidation_0-auc:0.943194\tvalidation_1-logloss:0.362306\tvalidation_1-auc:0.928022\n",
      "[203]\tvalidation_0-logloss:0.349615\tvalidation_0-auc:0.943257\tvalidation_1-logloss:0.362196\tvalidation_1-auc:0.928007\n",
      "[204]\tvalidation_0-logloss:0.349179\tvalidation_0-auc:0.943389\tvalidation_1-logloss:0.361756\tvalidation_1-auc:0.928163\n",
      "[205]\tvalidation_0-logloss:0.349129\tvalidation_0-auc:0.943411\tvalidation_1-logloss:0.36171\tvalidation_1-auc:0.928164\n",
      "[206]\tvalidation_0-logloss:0.349053\tvalidation_0-auc:0.943435\tvalidation_1-logloss:0.361695\tvalidation_1-auc:0.928147\n",
      "[207]\tvalidation_0-logloss:0.348893\tvalidation_0-auc:0.943487\tvalidation_1-logloss:0.361601\tvalidation_1-auc:0.928157\n",
      "[208]\tvalidation_0-logloss:0.348728\tvalidation_0-auc:0.94354\tvalidation_1-logloss:0.361461\tvalidation_1-auc:0.928172\n",
      "[209]\tvalidation_0-logloss:0.348561\tvalidation_0-auc:0.943602\tvalidation_1-logloss:0.361397\tvalidation_1-auc:0.928157\n"
     ]
    },
    {
     "name": "stdout",
     "output_type": "stream",
     "text": [
      "[210]\tvalidation_0-logloss:0.34833\tvalidation_0-auc:0.943663\tvalidation_1-logloss:0.361271\tvalidation_1-auc:0.928152\n",
      "[211]\tvalidation_0-logloss:0.348132\tvalidation_0-auc:0.943724\tvalidation_1-logloss:0.361193\tvalidation_1-auc:0.928182\n",
      "[212]\tvalidation_0-logloss:0.347539\tvalidation_0-auc:0.94392\tvalidation_1-logloss:0.360596\tvalidation_1-auc:0.928396\n",
      "[213]\tvalidation_0-logloss:0.347347\tvalidation_0-auc:0.943992\tvalidation_1-logloss:0.360381\tvalidation_1-auc:0.928447\n",
      "[214]\tvalidation_0-logloss:0.346903\tvalidation_0-auc:0.944119\tvalidation_1-logloss:0.359939\tvalidation_1-auc:0.928574\n",
      "[215]\tvalidation_0-logloss:0.346667\tvalidation_0-auc:0.944208\tvalidation_1-logloss:0.359867\tvalidation_1-auc:0.928539\n",
      "[216]\tvalidation_0-logloss:0.34627\tvalidation_0-auc:0.944319\tvalidation_1-logloss:0.359523\tvalidation_1-auc:0.928649\n",
      "[217]\tvalidation_0-logloss:0.346081\tvalidation_0-auc:0.944382\tvalidation_1-logloss:0.359514\tvalidation_1-auc:0.928582\n",
      "[218]\tvalidation_0-logloss:0.345763\tvalidation_0-auc:0.944495\tvalidation_1-logloss:0.35924\tvalidation_1-auc:0.928718\n",
      "[219]\tvalidation_0-logloss:0.345614\tvalidation_0-auc:0.944531\tvalidation_1-logloss:0.359115\tvalidation_1-auc:0.928721\n",
      "[220]\tvalidation_0-logloss:0.345457\tvalidation_0-auc:0.944599\tvalidation_1-logloss:0.359087\tvalidation_1-auc:0.92868\n",
      "[221]\tvalidation_0-logloss:0.345099\tvalidation_0-auc:0.944714\tvalidation_1-logloss:0.358786\tvalidation_1-auc:0.928746\n",
      "[222]\tvalidation_0-logloss:0.344893\tvalidation_0-auc:0.944781\tvalidation_1-logloss:0.35866\tvalidation_1-auc:0.928728\n",
      "[223]\tvalidation_0-logloss:0.344694\tvalidation_0-auc:0.944842\tvalidation_1-logloss:0.358488\tvalidation_1-auc:0.928707\n",
      "[224]\tvalidation_0-logloss:0.344559\tvalidation_0-auc:0.944883\tvalidation_1-logloss:0.358456\tvalidation_1-auc:0.928695\n",
      "[225]\tvalidation_0-logloss:0.344348\tvalidation_0-auc:0.944954\tvalidation_1-logloss:0.358237\tvalidation_1-auc:0.928761\n",
      "[226]\tvalidation_0-logloss:0.344029\tvalidation_0-auc:0.945052\tvalidation_1-logloss:0.358062\tvalidation_1-auc:0.928788\n",
      "[227]\tvalidation_0-logloss:0.34378\tvalidation_0-auc:0.945139\tvalidation_1-logloss:0.357856\tvalidation_1-auc:0.928816\n",
      "[228]\tvalidation_0-logloss:0.343572\tvalidation_0-auc:0.945224\tvalidation_1-logloss:0.357758\tvalidation_1-auc:0.928818\n",
      "[229]\tvalidation_0-logloss:0.343542\tvalidation_0-auc:0.945233\tvalidation_1-logloss:0.357757\tvalidation_1-auc:0.928804\n",
      "[230]\tvalidation_0-logloss:0.343375\tvalidation_0-auc:0.945271\tvalidation_1-logloss:0.357651\tvalidation_1-auc:0.92879\n",
      "[231]\tvalidation_0-logloss:0.343095\tvalidation_0-auc:0.945348\tvalidation_1-logloss:0.357399\tvalidation_1-auc:0.92894\n",
      "[232]\tvalidation_0-logloss:0.342667\tvalidation_0-auc:0.945486\tvalidation_1-logloss:0.357012\tvalidation_1-auc:0.929096\n",
      "[233]\tvalidation_0-logloss:0.342536\tvalidation_0-auc:0.945512\tvalidation_1-logloss:0.356938\tvalidation_1-auc:0.929074\n",
      "[234]\tvalidation_0-logloss:0.342386\tvalidation_0-auc:0.945571\tvalidation_1-logloss:0.356892\tvalidation_1-auc:0.929041\n",
      "[235]\tvalidation_0-logloss:0.342349\tvalidation_0-auc:0.945584\tvalidation_1-logloss:0.356894\tvalidation_1-auc:0.929036\n",
      "[236]\tvalidation_0-logloss:0.342083\tvalidation_0-auc:0.945671\tvalidation_1-logloss:0.356647\tvalidation_1-auc:0.929087\n",
      "[237]\tvalidation_0-logloss:0.341933\tvalidation_0-auc:0.945713\tvalidation_1-logloss:0.356486\tvalidation_1-auc:0.929132\n",
      "[238]\tvalidation_0-logloss:0.341687\tvalidation_0-auc:0.945799\tvalidation_1-logloss:0.356301\tvalidation_1-auc:0.929209\n",
      "[239]\tvalidation_0-logloss:0.341547\tvalidation_0-auc:0.945827\tvalidation_1-logloss:0.356287\tvalidation_1-auc:0.929178\n",
      "[240]\tvalidation_0-logloss:0.341352\tvalidation_0-auc:0.945898\tvalidation_1-logloss:0.356196\tvalidation_1-auc:0.929189\n",
      "[241]\tvalidation_0-logloss:0.341243\tvalidation_0-auc:0.945935\tvalidation_1-logloss:0.356141\tvalidation_1-auc:0.929172\n",
      "[242]\tvalidation_0-logloss:0.341062\tvalidation_0-auc:0.945993\tvalidation_1-logloss:0.356001\tvalidation_1-auc:0.92926\n",
      "[243]\tvalidation_0-logloss:0.340882\tvalidation_0-auc:0.946038\tvalidation_1-logloss:0.355953\tvalidation_1-auc:0.929238\n",
      "[244]\tvalidation_0-logloss:0.340604\tvalidation_0-auc:0.946119\tvalidation_1-logloss:0.355808\tvalidation_1-auc:0.929254\n",
      "[245]\tvalidation_0-logloss:0.340237\tvalidation_0-auc:0.946234\tvalidation_1-logloss:0.355492\tvalidation_1-auc:0.929378\n",
      "[246]\tvalidation_0-logloss:0.340174\tvalidation_0-auc:0.946242\tvalidation_1-logloss:0.355511\tvalidation_1-auc:0.929369\n",
      "[247]\tvalidation_0-logloss:0.340143\tvalidation_0-auc:0.946252\tvalidation_1-logloss:0.355503\tvalidation_1-auc:0.929362\n",
      "[248]\tvalidation_0-logloss:0.340042\tvalidation_0-auc:0.946294\tvalidation_1-logloss:0.355408\tvalidation_1-auc:0.929344\n",
      "[249]\tvalidation_0-logloss:0.339835\tvalidation_0-auc:0.946368\tvalidation_1-logloss:0.355269\tvalidation_1-auc:0.929345\n",
      "[250]\tvalidation_0-logloss:0.339735\tvalidation_0-auc:0.946409\tvalidation_1-logloss:0.355218\tvalidation_1-auc:0.929337\n",
      "[251]\tvalidation_0-logloss:0.33957\tvalidation_0-auc:0.946478\tvalidation_1-logloss:0.355191\tvalidation_1-auc:0.92932\n",
      "[252]\tvalidation_0-logloss:0.339471\tvalidation_0-auc:0.946498\tvalidation_1-logloss:0.355145\tvalidation_1-auc:0.929304\n",
      "[253]\tvalidation_0-logloss:0.339426\tvalidation_0-auc:0.946505\tvalidation_1-logloss:0.355152\tvalidation_1-auc:0.929303\n",
      "[254]\tvalidation_0-logloss:0.339242\tvalidation_0-auc:0.946568\tvalidation_1-logloss:0.355028\tvalidation_1-auc:0.92938\n",
      "[255]\tvalidation_0-logloss:0.339064\tvalidation_0-auc:0.946617\tvalidation_1-logloss:0.354864\tvalidation_1-auc:0.929414\n",
      "[256]\tvalidation_0-logloss:0.338835\tvalidation_0-auc:0.946692\tvalidation_1-logloss:0.354698\tvalidation_1-auc:0.929465\n",
      "[257]\tvalidation_0-logloss:0.338656\tvalidation_0-auc:0.946762\tvalidation_1-logloss:0.354674\tvalidation_1-auc:0.929439\n",
      "[258]\tvalidation_0-logloss:0.338494\tvalidation_0-auc:0.946824\tvalidation_1-logloss:0.354611\tvalidation_1-auc:0.929445\n",
      "[259]\tvalidation_0-logloss:0.338478\tvalidation_0-auc:0.946828\tvalidation_1-logloss:0.354616\tvalidation_1-auc:0.929436\n",
      "[260]\tvalidation_0-logloss:0.33831\tvalidation_0-auc:0.946892\tvalidation_1-logloss:0.354501\tvalidation_1-auc:0.929431\n",
      "[261]\tvalidation_0-logloss:0.33807\tvalidation_0-auc:0.946974\tvalidation_1-logloss:0.354427\tvalidation_1-auc:0.929405\n",
      "[262]\tvalidation_0-logloss:0.33782\tvalidation_0-auc:0.947058\tvalidation_1-logloss:0.35426\tvalidation_1-auc:0.929424\n",
      "[263]\tvalidation_0-logloss:0.337701\tvalidation_0-auc:0.947092\tvalidation_1-logloss:0.354141\tvalidation_1-auc:0.929437\n",
      "[264]\tvalidation_0-logloss:0.337548\tvalidation_0-auc:0.94714\tvalidation_1-logloss:0.353979\tvalidation_1-auc:0.929487\n",
      "[265]\tvalidation_0-logloss:0.337523\tvalidation_0-auc:0.947146\tvalidation_1-logloss:0.353981\tvalidation_1-auc:0.929479\n",
      "[266]\tvalidation_0-logloss:0.337318\tvalidation_0-auc:0.947214\tvalidation_1-logloss:0.353846\tvalidation_1-auc:0.929552\n",
      "[267]\tvalidation_0-logloss:0.337155\tvalidation_0-auc:0.947251\tvalidation_1-logloss:0.353768\tvalidation_1-auc:0.929539\n",
      "[268]\tvalidation_0-logloss:0.336993\tvalidation_0-auc:0.947314\tvalidation_1-logloss:0.353726\tvalidation_1-auc:0.929524\n",
      "[269]\tvalidation_0-logloss:0.336817\tvalidation_0-auc:0.947378\tvalidation_1-logloss:0.353624\tvalidation_1-auc:0.929553\n",
      "[270]\tvalidation_0-logloss:0.33674\tvalidation_0-auc:0.94741\tvalidation_1-logloss:0.353607\tvalidation_1-auc:0.929529\n",
      "[271]\tvalidation_0-logloss:0.33662\tvalidation_0-auc:0.947452\tvalidation_1-logloss:0.353573\tvalidation_1-auc:0.929522\n",
      "[272]\tvalidation_0-logloss:0.33633\tvalidation_0-auc:0.94756\tvalidation_1-logloss:0.353336\tvalidation_1-auc:0.929559\n",
      "[273]\tvalidation_0-logloss:0.336195\tvalidation_0-auc:0.947602\tvalidation_1-logloss:0.353222\tvalidation_1-auc:0.929571\n",
      "[274]\tvalidation_0-logloss:0.336115\tvalidation_0-auc:0.947631\tvalidation_1-logloss:0.353171\tvalidation_1-auc:0.92958\n",
      "[275]\tvalidation_0-logloss:0.336025\tvalidation_0-auc:0.947649\tvalidation_1-logloss:0.353095\tvalidation_1-auc:0.929584\n",
      "[276]\tvalidation_0-logloss:0.33576\tvalidation_0-auc:0.947744\tvalidation_1-logloss:0.35285\tvalidation_1-auc:0.929659\n",
      "[277]\tvalidation_0-logloss:0.335529\tvalidation_0-auc:0.947791\tvalidation_1-logloss:0.352611\tvalidation_1-auc:0.929722\n",
      "[278]\tvalidation_0-logloss:0.335071\tvalidation_0-auc:0.947934\tvalidation_1-logloss:0.352118\tvalidation_1-auc:0.929905\n",
      "[279]\tvalidation_0-logloss:0.334944\tvalidation_0-auc:0.947968\tvalidation_1-logloss:0.352002\tvalidation_1-auc:0.929944\n"
     ]
    },
    {
     "name": "stdout",
     "output_type": "stream",
     "text": [
      "[280]\tvalidation_0-logloss:0.334646\tvalidation_0-auc:0.948069\tvalidation_1-logloss:0.35171\tvalidation_1-auc:0.930002\n",
      "[281]\tvalidation_0-logloss:0.334422\tvalidation_0-auc:0.948135\tvalidation_1-logloss:0.351513\tvalidation_1-auc:0.930068\n",
      "[282]\tvalidation_0-logloss:0.334198\tvalidation_0-auc:0.948196\tvalidation_1-logloss:0.351296\tvalidation_1-auc:0.930106\n",
      "[283]\tvalidation_0-logloss:0.334093\tvalidation_0-auc:0.948223\tvalidation_1-logloss:0.351233\tvalidation_1-auc:0.930117\n",
      "[284]\tvalidation_0-logloss:0.333987\tvalidation_0-auc:0.948241\tvalidation_1-logloss:0.351215\tvalidation_1-auc:0.930093\n",
      "[285]\tvalidation_0-logloss:0.333823\tvalidation_0-auc:0.948299\tvalidation_1-logloss:0.351092\tvalidation_1-auc:0.930114\n",
      "[286]\tvalidation_0-logloss:0.333663\tvalidation_0-auc:0.948361\tvalidation_1-logloss:0.351016\tvalidation_1-auc:0.930116\n",
      "[287]\tvalidation_0-logloss:0.33354\tvalidation_0-auc:0.948408\tvalidation_1-logloss:0.350983\tvalidation_1-auc:0.930061\n",
      "[288]\tvalidation_0-logloss:0.333447\tvalidation_0-auc:0.948442\tvalidation_1-logloss:0.350984\tvalidation_1-auc:0.930051\n",
      "[289]\tvalidation_0-logloss:0.333429\tvalidation_0-auc:0.948448\tvalidation_1-logloss:0.350995\tvalidation_1-auc:0.930037\n",
      "[290]\tvalidation_0-logloss:0.333209\tvalidation_0-auc:0.948519\tvalidation_1-logloss:0.350901\tvalidation_1-auc:0.930023\n",
      "[291]\tvalidation_0-logloss:0.333096\tvalidation_0-auc:0.948557\tvalidation_1-logloss:0.350805\tvalidation_1-auc:0.930052\n",
      "[292]\tvalidation_0-logloss:0.332953\tvalidation_0-auc:0.948605\tvalidation_1-logloss:0.350792\tvalidation_1-auc:0.93003\n",
      "[293]\tvalidation_0-logloss:0.332866\tvalidation_0-auc:0.948628\tvalidation_1-logloss:0.350698\tvalidation_1-auc:0.930054\n",
      "[294]\tvalidation_0-logloss:0.332721\tvalidation_0-auc:0.948655\tvalidation_1-logloss:0.350609\tvalidation_1-auc:0.93003\n",
      "[295]\tvalidation_0-logloss:0.332537\tvalidation_0-auc:0.948716\tvalidation_1-logloss:0.350468\tvalidation_1-auc:0.930036\n",
      "[296]\tvalidation_0-logloss:0.33241\tvalidation_0-auc:0.948752\tvalidation_1-logloss:0.350365\tvalidation_1-auc:0.930101\n",
      "[297]\tvalidation_0-logloss:0.332246\tvalidation_0-auc:0.9488\tvalidation_1-logloss:0.350241\tvalidation_1-auc:0.930104\n",
      "[298]\tvalidation_0-logloss:0.332141\tvalidation_0-auc:0.948826\tvalidation_1-logloss:0.350165\tvalidation_1-auc:0.930115\n",
      "[299]\tvalidation_0-logloss:0.332081\tvalidation_0-auc:0.94885\tvalidation_1-logloss:0.350134\tvalidation_1-auc:0.930108\n",
      "[300]\tvalidation_0-logloss:0.331832\tvalidation_0-auc:0.948942\tvalidation_1-logloss:0.349976\tvalidation_1-auc:0.930095\n",
      "[301]\tvalidation_0-logloss:0.331809\tvalidation_0-auc:0.948948\tvalidation_1-logloss:0.349973\tvalidation_1-auc:0.930089\n",
      "[302]\tvalidation_0-logloss:0.331763\tvalidation_0-auc:0.948962\tvalidation_1-logloss:0.349954\tvalidation_1-auc:0.930078\n",
      "[303]\tvalidation_0-logloss:0.331701\tvalidation_0-auc:0.948985\tvalidation_1-logloss:0.349939\tvalidation_1-auc:0.930081\n",
      "[304]\tvalidation_0-logloss:0.331681\tvalidation_0-auc:0.94898\tvalidation_1-logloss:0.349969\tvalidation_1-auc:0.930054\n",
      "[305]\tvalidation_0-logloss:0.331579\tvalidation_0-auc:0.949013\tvalidation_1-logloss:0.349926\tvalidation_1-auc:0.930084\n",
      "[306]\tvalidation_0-logloss:0.331501\tvalidation_0-auc:0.949041\tvalidation_1-logloss:0.349904\tvalidation_1-auc:0.93008\n",
      "[307]\tvalidation_0-logloss:0.331456\tvalidation_0-auc:0.949046\tvalidation_1-logloss:0.349934\tvalidation_1-auc:0.930062\n",
      "[308]\tvalidation_0-logloss:0.331351\tvalidation_0-auc:0.949071\tvalidation_1-logloss:0.349923\tvalidation_1-auc:0.930038\n",
      "[309]\tvalidation_0-logloss:0.3312\tvalidation_0-auc:0.94912\tvalidation_1-logloss:0.349872\tvalidation_1-auc:0.930056\n",
      "[310]\tvalidation_0-logloss:0.331022\tvalidation_0-auc:0.949185\tvalidation_1-logloss:0.349792\tvalidation_1-auc:0.930056\n",
      "[311]\tvalidation_0-logloss:0.330911\tvalidation_0-auc:0.949225\tvalidation_1-logloss:0.349674\tvalidation_1-auc:0.930065\n",
      "[312]\tvalidation_0-logloss:0.330746\tvalidation_0-auc:0.94928\tvalidation_1-logloss:0.349562\tvalidation_1-auc:0.930058\n",
      "[313]\tvalidation_0-logloss:0.330437\tvalidation_0-auc:0.949377\tvalidation_1-logloss:0.349337\tvalidation_1-auc:0.930008\n",
      "[314]\tvalidation_0-logloss:0.330297\tvalidation_0-auc:0.949418\tvalidation_1-logloss:0.349237\tvalidation_1-auc:0.930049\n",
      "[315]\tvalidation_0-logloss:0.330138\tvalidation_0-auc:0.949468\tvalidation_1-logloss:0.349093\tvalidation_1-auc:0.930118\n",
      "[316]\tvalidation_0-logloss:0.33003\tvalidation_0-auc:0.949495\tvalidation_1-logloss:0.34896\tvalidation_1-auc:0.93016\n",
      "[317]\tvalidation_0-logloss:0.329953\tvalidation_0-auc:0.949504\tvalidation_1-logloss:0.348943\tvalidation_1-auc:0.930146\n",
      "[318]\tvalidation_0-logloss:0.32962\tvalidation_0-auc:0.94962\tvalidation_1-logloss:0.34864\tvalidation_1-auc:0.930226\n",
      "[319]\tvalidation_0-logloss:0.329541\tvalidation_0-auc:0.949633\tvalidation_1-logloss:0.348682\tvalidation_1-auc:0.930194\n",
      "[320]\tvalidation_0-logloss:0.329427\tvalidation_0-auc:0.949667\tvalidation_1-logloss:0.348561\tvalidation_1-auc:0.930223\n",
      "[321]\tvalidation_0-logloss:0.32927\tvalidation_0-auc:0.949722\tvalidation_1-logloss:0.348482\tvalidation_1-auc:0.930222\n",
      "[322]\tvalidation_0-logloss:0.329007\tvalidation_0-auc:0.949806\tvalidation_1-logloss:0.348304\tvalidation_1-auc:0.930269\n",
      "[323]\tvalidation_0-logloss:0.328934\tvalidation_0-auc:0.949834\tvalidation_1-logloss:0.348275\tvalidation_1-auc:0.930265\n",
      "[324]\tvalidation_0-logloss:0.328923\tvalidation_0-auc:0.949836\tvalidation_1-logloss:0.348281\tvalidation_1-auc:0.93026\n",
      "[325]\tvalidation_0-logloss:0.328822\tvalidation_0-auc:0.949868\tvalidation_1-logloss:0.348201\tvalidation_1-auc:0.930258\n",
      "[326]\tvalidation_0-logloss:0.328714\tvalidation_0-auc:0.949901\tvalidation_1-logloss:0.348074\tvalidation_1-auc:0.930297\n",
      "[327]\tvalidation_0-logloss:0.328596\tvalidation_0-auc:0.949946\tvalidation_1-logloss:0.348105\tvalidation_1-auc:0.93026\n",
      "[328]\tvalidation_0-logloss:0.328511\tvalidation_0-auc:0.94998\tvalidation_1-logloss:0.348075\tvalidation_1-auc:0.930252\n",
      "[329]\tvalidation_0-logloss:0.328473\tvalidation_0-auc:0.949992\tvalidation_1-logloss:0.348061\tvalidation_1-auc:0.930238\n",
      "[330]\tvalidation_0-logloss:0.328366\tvalidation_0-auc:0.950026\tvalidation_1-logloss:0.347932\tvalidation_1-auc:0.930248\n",
      "[331]\tvalidation_0-logloss:0.328201\tvalidation_0-auc:0.950079\tvalidation_1-logloss:0.347843\tvalidation_1-auc:0.930258\n",
      "[332]\tvalidation_0-logloss:0.327992\tvalidation_0-auc:0.950147\tvalidation_1-logloss:0.347636\tvalidation_1-auc:0.930294\n",
      "[333]\tvalidation_0-logloss:0.327926\tvalidation_0-auc:0.950157\tvalidation_1-logloss:0.347629\tvalidation_1-auc:0.930288\n",
      "[334]\tvalidation_0-logloss:0.327692\tvalidation_0-auc:0.950246\tvalidation_1-logloss:0.347446\tvalidation_1-auc:0.930328\n",
      "[335]\tvalidation_0-logloss:0.327542\tvalidation_0-auc:0.950295\tvalidation_1-logloss:0.347444\tvalidation_1-auc:0.930319\n",
      "[336]\tvalidation_0-logloss:0.32739\tvalidation_0-auc:0.950343\tvalidation_1-logloss:0.347311\tvalidation_1-auc:0.930337\n",
      "[337]\tvalidation_0-logloss:0.327286\tvalidation_0-auc:0.95038\tvalidation_1-logloss:0.347227\tvalidation_1-auc:0.930346\n",
      "[338]\tvalidation_0-logloss:0.327048\tvalidation_0-auc:0.950455\tvalidation_1-logloss:0.347087\tvalidation_1-auc:0.930375\n",
      "[339]\tvalidation_0-logloss:0.326772\tvalidation_0-auc:0.950542\tvalidation_1-logloss:0.346861\tvalidation_1-auc:0.930429\n",
      "[340]\tvalidation_0-logloss:0.326701\tvalidation_0-auc:0.950562\tvalidation_1-logloss:0.346783\tvalidation_1-auc:0.930417\n",
      "[341]\tvalidation_0-logloss:0.326579\tvalidation_0-auc:0.950595\tvalidation_1-logloss:0.346735\tvalidation_1-auc:0.930403\n",
      "[342]\tvalidation_0-logloss:0.326576\tvalidation_0-auc:0.950596\tvalidation_1-logloss:0.34674\tvalidation_1-auc:0.930396\n",
      "[343]\tvalidation_0-logloss:0.326464\tvalidation_0-auc:0.950634\tvalidation_1-logloss:0.346666\tvalidation_1-auc:0.930385\n",
      "[344]\tvalidation_0-logloss:0.326378\tvalidation_0-auc:0.950665\tvalidation_1-logloss:0.346623\tvalidation_1-auc:0.930375\n",
      "[345]\tvalidation_0-logloss:0.326312\tvalidation_0-auc:0.950689\tvalidation_1-logloss:0.346593\tvalidation_1-auc:0.930372\n",
      "[346]\tvalidation_0-logloss:0.326271\tvalidation_0-auc:0.950704\tvalidation_1-logloss:0.34659\tvalidation_1-auc:0.930352\n",
      "[347]\tvalidation_0-logloss:0.326159\tvalidation_0-auc:0.950739\tvalidation_1-logloss:0.346514\tvalidation_1-auc:0.930358\n",
      "[348]\tvalidation_0-logloss:0.326089\tvalidation_0-auc:0.950762\tvalidation_1-logloss:0.346481\tvalidation_1-auc:0.930362\n",
      "[349]\tvalidation_0-logloss:0.325882\tvalidation_0-auc:0.950813\tvalidation_1-logloss:0.346323\tvalidation_1-auc:0.930404\n"
     ]
    },
    {
     "name": "stdout",
     "output_type": "stream",
     "text": [
      "[350]\tvalidation_0-logloss:0.325848\tvalidation_0-auc:0.950824\tvalidation_1-logloss:0.346313\tvalidation_1-auc:0.93039\n",
      "[351]\tvalidation_0-logloss:0.325665\tvalidation_0-auc:0.950885\tvalidation_1-logloss:0.346212\tvalidation_1-auc:0.930436\n",
      "[352]\tvalidation_0-logloss:0.325622\tvalidation_0-auc:0.950899\tvalidation_1-logloss:0.346204\tvalidation_1-auc:0.930428\n",
      "[353]\tvalidation_0-logloss:0.325491\tvalidation_0-auc:0.950938\tvalidation_1-logloss:0.346136\tvalidation_1-auc:0.930426\n",
      "[354]\tvalidation_0-logloss:0.325424\tvalidation_0-auc:0.950952\tvalidation_1-logloss:0.346071\tvalidation_1-auc:0.930426\n",
      "[355]\tvalidation_0-logloss:0.325297\tvalidation_0-auc:0.951002\tvalidation_1-logloss:0.346035\tvalidation_1-auc:0.930421\n",
      "[356]\tvalidation_0-logloss:0.325279\tvalidation_0-auc:0.951007\tvalidation_1-logloss:0.346035\tvalidation_1-auc:0.930417\n",
      "[357]\tvalidation_0-logloss:0.325168\tvalidation_0-auc:0.951044\tvalidation_1-logloss:0.345901\tvalidation_1-auc:0.930407\n",
      "[358]\tvalidation_0-logloss:0.325108\tvalidation_0-auc:0.951067\tvalidation_1-logloss:0.345882\tvalidation_1-auc:0.930397\n",
      "[359]\tvalidation_0-logloss:0.324957\tvalidation_0-auc:0.951121\tvalidation_1-logloss:0.345768\tvalidation_1-auc:0.930431\n",
      "[360]\tvalidation_0-logloss:0.324861\tvalidation_0-auc:0.95115\tvalidation_1-logloss:0.345708\tvalidation_1-auc:0.93043\n",
      "[361]\tvalidation_0-logloss:0.324651\tvalidation_0-auc:0.951216\tvalidation_1-logloss:0.345567\tvalidation_1-auc:0.930456\n",
      "[362]\tvalidation_0-logloss:0.324522\tvalidation_0-auc:0.95126\tvalidation_1-logloss:0.345511\tvalidation_1-auc:0.930451\n",
      "[363]\tvalidation_0-logloss:0.324488\tvalidation_0-auc:0.951265\tvalidation_1-logloss:0.345473\tvalidation_1-auc:0.930452\n",
      "[364]\tvalidation_0-logloss:0.324413\tvalidation_0-auc:0.95129\tvalidation_1-logloss:0.345444\tvalidation_1-auc:0.930452\n",
      "[365]\tvalidation_0-logloss:0.324337\tvalidation_0-auc:0.951316\tvalidation_1-logloss:0.345426\tvalidation_1-auc:0.930446\n",
      "[366]\tvalidation_0-logloss:0.324301\tvalidation_0-auc:0.951327\tvalidation_1-logloss:0.345423\tvalidation_1-auc:0.930438\n",
      "[367]\tvalidation_0-logloss:0.324284\tvalidation_0-auc:0.951332\tvalidation_1-logloss:0.345421\tvalidation_1-auc:0.93043\n",
      "[368]\tvalidation_0-logloss:0.324146\tvalidation_0-auc:0.951375\tvalidation_1-logloss:0.345327\tvalidation_1-auc:0.93043\n",
      "[369]\tvalidation_0-logloss:0.324001\tvalidation_0-auc:0.951409\tvalidation_1-logloss:0.345262\tvalidation_1-auc:0.930436\n",
      "[370]\tvalidation_0-logloss:0.323852\tvalidation_0-auc:0.951459\tvalidation_1-logloss:0.345144\tvalidation_1-auc:0.930431\n",
      "[371]\tvalidation_0-logloss:0.323777\tvalidation_0-auc:0.951483\tvalidation_1-logloss:0.345107\tvalidation_1-auc:0.930399\n",
      "[372]\tvalidation_0-logloss:0.32372\tvalidation_0-auc:0.951502\tvalidation_1-logloss:0.345096\tvalidation_1-auc:0.930395\n",
      "[373]\tvalidation_0-logloss:0.323565\tvalidation_0-auc:0.951557\tvalidation_1-logloss:0.345024\tvalidation_1-auc:0.930378\n",
      "[374]\tvalidation_0-logloss:0.323408\tvalidation_0-auc:0.951619\tvalidation_1-logloss:0.344946\tvalidation_1-auc:0.930361\n",
      "[375]\tvalidation_0-logloss:0.32331\tvalidation_0-auc:0.951643\tvalidation_1-logloss:0.344906\tvalidation_1-auc:0.930337\n",
      "[376]\tvalidation_0-logloss:0.323183\tvalidation_0-auc:0.951681\tvalidation_1-logloss:0.344829\tvalidation_1-auc:0.930329\n",
      "[377]\tvalidation_0-logloss:0.323008\tvalidation_0-auc:0.951743\tvalidation_1-logloss:0.344686\tvalidation_1-auc:0.930355\n",
      "[378]\tvalidation_0-logloss:0.322923\tvalidation_0-auc:0.951769\tvalidation_1-logloss:0.344618\tvalidation_1-auc:0.930353\n",
      "[379]\tvalidation_0-logloss:0.322876\tvalidation_0-auc:0.951787\tvalidation_1-logloss:0.3446\tvalidation_1-auc:0.930345\n",
      "[380]\tvalidation_0-logloss:0.322849\tvalidation_0-auc:0.951795\tvalidation_1-logloss:0.344594\tvalidation_1-auc:0.930331\n",
      "[381]\tvalidation_0-logloss:0.32279\tvalidation_0-auc:0.951812\tvalidation_1-logloss:0.344578\tvalidation_1-auc:0.930324\n",
      "[382]\tvalidation_0-logloss:0.322637\tvalidation_0-auc:0.95187\tvalidation_1-logloss:0.344468\tvalidation_1-auc:0.930331\n",
      "[383]\tvalidation_0-logloss:0.32253\tvalidation_0-auc:0.951903\tvalidation_1-logloss:0.344324\tvalidation_1-auc:0.930379\n",
      "[384]\tvalidation_0-logloss:0.3224\tvalidation_0-auc:0.95195\tvalidation_1-logloss:0.344315\tvalidation_1-auc:0.930368\n",
      "[385]\tvalidation_0-logloss:0.322384\tvalidation_0-auc:0.951954\tvalidation_1-logloss:0.344319\tvalidation_1-auc:0.930362\n",
      "[386]\tvalidation_0-logloss:0.322244\tvalidation_0-auc:0.952\tvalidation_1-logloss:0.344205\tvalidation_1-auc:0.930396\n",
      "[387]\tvalidation_0-logloss:0.322088\tvalidation_0-auc:0.952057\tvalidation_1-logloss:0.344105\tvalidation_1-auc:0.930368\n",
      "[388]\tvalidation_0-logloss:0.321981\tvalidation_0-auc:0.952091\tvalidation_1-logloss:0.344091\tvalidation_1-auc:0.930346\n",
      "[389]\tvalidation_0-logloss:0.321858\tvalidation_0-auc:0.952133\tvalidation_1-logloss:0.344038\tvalidation_1-auc:0.930342\n",
      "[390]\tvalidation_0-logloss:0.321631\tvalidation_0-auc:0.952204\tvalidation_1-logloss:0.343977\tvalidation_1-auc:0.930321\n",
      "[391]\tvalidation_0-logloss:0.321499\tvalidation_0-auc:0.952243\tvalidation_1-logloss:0.343876\tvalidation_1-auc:0.930318\n",
      "[392]\tvalidation_0-logloss:0.321395\tvalidation_0-auc:0.952278\tvalidation_1-logloss:0.343793\tvalidation_1-auc:0.930337\n",
      "[393]\tvalidation_0-logloss:0.321273\tvalidation_0-auc:0.952315\tvalidation_1-logloss:0.343714\tvalidation_1-auc:0.930348\n",
      "[394]\tvalidation_0-logloss:0.321244\tvalidation_0-auc:0.952325\tvalidation_1-logloss:0.343722\tvalidation_1-auc:0.930337\n",
      "[395]\tvalidation_0-logloss:0.321067\tvalidation_0-auc:0.95239\tvalidation_1-logloss:0.343636\tvalidation_1-auc:0.930333\n",
      "[396]\tvalidation_0-logloss:0.320906\tvalidation_0-auc:0.952452\tvalidation_1-logloss:0.343499\tvalidation_1-auc:0.930363\n",
      "[397]\tvalidation_0-logloss:0.320814\tvalidation_0-auc:0.952475\tvalidation_1-logloss:0.343455\tvalidation_1-auc:0.930348\n",
      "[398]\tvalidation_0-logloss:0.320725\tvalidation_0-auc:0.952506\tvalidation_1-logloss:0.343412\tvalidation_1-auc:0.930358\n",
      "[399]\tvalidation_0-logloss:0.320604\tvalidation_0-auc:0.952542\tvalidation_1-logloss:0.343356\tvalidation_1-auc:0.930359\n",
      "[400]\tvalidation_0-logloss:0.320482\tvalidation_0-auc:0.952583\tvalidation_1-logloss:0.34328\tvalidation_1-auc:0.93037\n",
      "[401]\tvalidation_0-logloss:0.320389\tvalidation_0-auc:0.952618\tvalidation_1-logloss:0.343258\tvalidation_1-auc:0.930341\n",
      "[402]\tvalidation_0-logloss:0.320173\tvalidation_0-auc:0.952688\tvalidation_1-logloss:0.34306\tvalidation_1-auc:0.930396\n",
      "[403]\tvalidation_0-logloss:0.320063\tvalidation_0-auc:0.952725\tvalidation_1-logloss:0.342993\tvalidation_1-auc:0.930405\n",
      "[404]\tvalidation_0-logloss:0.319928\tvalidation_0-auc:0.952764\tvalidation_1-logloss:0.343014\tvalidation_1-auc:0.930368\n",
      "[405]\tvalidation_0-logloss:0.319861\tvalidation_0-auc:0.952789\tvalidation_1-logloss:0.343016\tvalidation_1-auc:0.930344\n",
      "[406]\tvalidation_0-logloss:0.319639\tvalidation_0-auc:0.952862\tvalidation_1-logloss:0.342909\tvalidation_1-auc:0.930304\n",
      "[407]\tvalidation_0-logloss:0.319576\tvalidation_0-auc:0.952879\tvalidation_1-logloss:0.342805\tvalidation_1-auc:0.93035\n",
      "[408]\tvalidation_0-logloss:0.319485\tvalidation_0-auc:0.952905\tvalidation_1-logloss:0.342723\tvalidation_1-auc:0.930339\n",
      "[409]\tvalidation_0-logloss:0.319473\tvalidation_0-auc:0.952909\tvalidation_1-logloss:0.342732\tvalidation_1-auc:0.93033\n",
      "[410]\tvalidation_0-logloss:0.319359\tvalidation_0-auc:0.952949\tvalidation_1-logloss:0.342683\tvalidation_1-auc:0.930281\n",
      "[411]\tvalidation_0-logloss:0.319228\tvalidation_0-auc:0.952988\tvalidation_1-logloss:0.342663\tvalidation_1-auc:0.930247\n",
      "Stopping. Best iteration:\n",
      "[361]\tvalidation_0-logloss:0.324651\tvalidation_0-auc:0.951216\tvalidation_1-logloss:0.345567\tvalidation_1-auc:0.930456\n",
      "\n"
     ]
    },
    {
     "data": {
      "text/plain": [
       "XGBClassifier(base_score=0.5, booster='gbtree', colsample_bylevel=1,\n",
       "       colsample_bytree=1, eta=0.1, eval_metric=['logloss', 'auc'],\n",
       "       gamma=0, learning_rate=0.1, max_delta_step=0, max_depth=3,\n",
       "       min_child_weight=1, missing=None, n_estimators=1000, n_jobs=1,\n",
       "       nthread=None, objective='binary:logistic', random_state=42,\n",
       "       reg_alpha=0, reg_lambda=1, scale_pos_weight=9.0, seed=None,\n",
       "       silent=0, subsample=1)"
      ]
     },
     "execution_count": 8,
     "metadata": {},
     "output_type": "execute_result"
    }
   ],
   "source": [
    "params = {\n",
    "    'eta': 0.1,\n",
    "    'objective': 'binary:logistic',\n",
    "    'eval_metric': ['logloss', 'auc'],\n",
    "    'silent': 0,\n",
    "    'random_state': 42,\n",
    "    'n_estimators': 1000,\n",
    "    'scale_pos_weight': round(1 / y_train.mean()),\n",
    "}\n",
    "clf = XGBClassifier(**params)\n",
    "clf.fit(\n",
    "    X_train, y_train, eval_set=[(X_train, y_train), (X_test, y_test)], early_stopping_rounds=50,\n",
    ")"
   ]
  },
  {
   "cell_type": "code",
   "execution_count": 9,
   "metadata": {
    "ExecuteTime": {
     "end_time": "2019-03-24T12:25:50.712896Z",
     "start_time": "2019-03-24T12:25:50.403604Z"
    },
    "cell_style": "split"
   },
   "outputs": [
    {
     "data": {
      "image/png": "[encoded data removed]",
      "text/plain": [
       "<Figure size 720x576 with 1 Axes>"
      ]
     },
     "metadata": {
      "needs_background": "light"
     },
     "output_type": "display_data"
    }
   ],
   "source": [
    "results = clf.evals_result()\n",
    "epochs = len(results['validation_0']['logloss'])\n",
    "x_axis = range(0, epochs)\n",
    "fig, ax = plt.subplots()\n",
    "ax.plot(x_axis, results['validation_0']['logloss'], label='Train')\n",
    "ax.plot(x_axis, results['validation_1']['logloss'], label='Test')\n",
    "ax.legend()\n",
    "fig.set_size_inches(10, 8)\n",
    "ax.set_xlabel('Num iterations');\n",
    "ax.set_ylabel('Multiclass Log Loss');"
   ]
  },
  {
   "cell_type": "code",
   "execution_count": 10,
   "metadata": {
    "ExecuteTime": {
     "end_time": "2019-03-24T12:25:50.993176Z",
     "start_time": "2019-03-24T12:25:50.714918Z"
    },
    "cell_style": "split"
   },
   "outputs": [
    {
     "data": {
      "image/png": "[encoded data removed]",
      "text/plain": [
       "<Figure size 720x576 with 1 Axes>"
      ]
     },
     "metadata": {
      "needs_background": "light"
     },
     "output_type": "display_data"
    }
   ],
   "source": [
    "results = clf.evals_result()\n",
    "epochs = len(results['validation_0']['auc'])\n",
    "x_axis = range(0, epochs)\n",
    "fig, ax = plt.subplots()\n",
    "ax.plot(x_axis, results['validation_0']['auc'], label='Train')\n",
    "ax.plot(x_axis, results['validation_1']['auc'], label='Test')\n",
    "ax.legend()\n",
    "fig.set_size_inches(10, 8)\n",
    "ax.set_xlabel('Num iterations')\n",
    "ax.set_ylabel('Multiclass Error Rate');"
   ]
  },
  {
   "cell_type": "code",
   "execution_count": 11,
   "metadata": {
    "ExecuteTime": {
     "end_time": "2019-03-24T12:25:51.020796Z",
     "start_time": "2019-03-24T12:25:50.995185Z"
    }
   },
   "outputs": [
    {
     "name": "stdout",
     "output_type": "stream",
     "text": [
      "Best iteration: 361.\n"
     ]
    }
   ],
   "source": [
    "print(f'Best iteration: {clf.best_iteration}.')\n",
    "clf = clf.set_params(n_estimators=clf.best_iteration)"
   ]
  },
  {
   "cell_type": "markdown",
   "metadata": {},
   "source": [
    "> Model seems to perform reasonably well, with a AUC of 0.95 for train and 0.93 for test at best iteration of 361."
   ]
  },
  {
   "cell_type": "markdown",
   "metadata": {
    "ExecuteTime": {
     "end_time": "2019-03-23T20:58:11.742947Z",
     "start_time": "2019-03-23T20:58:11.718311Z"
    }
   },
   "source": [
    "### Classification Report"
   ]
  },
  {
   "cell_type": "code",
   "execution_count": 12,
   "metadata": {
    "ExecuteTime": {
     "end_time": "2019-03-24T12:25:51.386488Z",
     "start_time": "2019-03-24T12:25:51.023007Z"
    },
    "cell_style": "center"
   },
   "outputs": [
    {
     "name": "stdout",
     "output_type": "stream",
     "text": [
      "              precision    recall  f1-score   support\n",
      "\n",
      "           0       0.99      0.84      0.91     27945\n",
      "           1       0.44      0.94      0.60      3702\n",
      "\n",
      "   micro avg       0.85      0.85      0.85     31647\n",
      "   macro avg       0.72      0.89      0.76     31647\n",
      "weighted avg       0.93      0.85      0.87     31647\n",
      "\n"
     ]
    }
   ],
   "source": [
    "print(classification_report(y_train, clf.predict(X_train)))"
   ]
  },
  {
   "cell_type": "code",
   "execution_count": 13,
   "metadata": {
    "ExecuteTime": {
     "end_time": "2019-03-24T12:25:51.563929Z",
     "start_time": "2019-03-24T12:25:51.388663Z"
    },
    "cell_style": "center"
   },
   "outputs": [
    {
     "name": "stdout",
     "output_type": "stream",
     "text": [
      "              precision    recall  f1-score   support\n",
      "\n",
      "           0       0.98      0.84      0.91     11977\n",
      "           1       0.42      0.89      0.57      1587\n",
      "\n",
      "   micro avg       0.85      0.85      0.85     13564\n",
      "   macro avg       0.70      0.86      0.74     13564\n",
      "weighted avg       0.92      0.85      0.87     13564\n",
      "\n"
     ]
    }
   ],
   "source": [
    "print(classification_report(y_test, clf.predict(X_test)))"
   ]
  },
  {
   "cell_type": "markdown",
   "metadata": {},
   "source": [
    "> Train and test metrics are comparable so will use this prototyped model for prediction."
   ]
  },
  {
   "cell_type": "markdown",
   "metadata": {},
   "source": [
    "## Final Model"
   ]
  },
  {
   "cell_type": "code",
   "execution_count": 14,
   "metadata": {
    "ExecuteTime": {
     "end_time": "2019-03-24T12:26:04.015045Z",
     "start_time": "2019-03-24T12:25:51.568435Z"
    }
   },
   "outputs": [
    {
     "name": "stderr",
     "output_type": "stream",
     "text": [
      "2019-03-24 12:25:51,619:INFO:Numerising month\n",
      "2019-03-24 12:25:51,660:INFO:Binarising columns: default\n",
      "2019-03-24 12:25:51,671:INFO:Binarising columns: housing\n",
      "2019-03-24 12:25:51,680:INFO:Binarising columns: loan\n",
      "2019-03-24 12:25:51,715:INFO:One hot encode categorical features and concat with continuous features.\n",
      "2019-03-24 12:26:03,456:INFO:Numerising month\n",
      "2019-03-24 12:26:03,495:INFO:Binarising columns: default\n",
      "2019-03-24 12:26:03,504:INFO:Binarising columns: housing\n",
      "2019-03-24 12:26:03,516:INFO:Binarising columns: loan\n",
      "2019-03-24 12:26:03,527:INFO:One hot encode categorical features and concat with continuous features.\n"
     ]
    },
    {
     "name": "stdout",
     "output_type": "stream",
     "text": [
      "Overall AUC score:  94.66 %\n"
     ]
    }
   ],
   "source": [
    "model_pl = Pipeline([\n",
    "    ('df_transformer', RawDataTransformer()),\n",
    "    ('model_transformer', ModelDataTransfomer()),\n",
    "    ('clf', XGBClassifier(**clf.get_params()))\n",
    "])\n",
    "model_pl = model_pl.fit(df.drop('y', axis=1), df2['y'])\n",
    "y_scores = model_pl.predict_proba(df.drop('y', axis=1))[:, 1]\n",
    "print(f'Overall AUC score: {roc_auc_score(df2[\"y\"], y_scores) * 100: .2f} %')"
   ]
  },
  {
   "cell_type": "code",
   "execution_count": 15,
   "metadata": {
    "ExecuteTime": {
     "end_time": "2019-03-24T12:26:04.042148Z",
     "start_time": "2019-03-24T12:26:04.017608Z"
    }
   },
   "outputs": [
    {
     "name": "stdout",
     "output_type": "stream",
     "text": [
      "Saved model to /Users/harsit/work/artificial_ml_challenge/models/src/../models/bank_marketing_model_v1.pkl.\n"
     ]
    }
   ],
   "source": [
    "joblib.dump(model_pl, BANK_MARKETING_MODEL_PICKLE)\n",
    "print(f'Saved model to {BANK_MARKETING_MODEL_PICKLE}.')"
   ]
  },
  {
   "cell_type": "code",
   "execution_count": 16,
   "metadata": {
    "ExecuteTime": {
     "end_time": "2019-03-24T12:26:04.062410Z",
     "start_time": "2019-03-24T12:26:04.043729Z"
    }
   },
   "outputs": [
    {
     "name": "stdout",
     "output_type": "stream",
     "text": [
      "Finished running notebook: 2019-03-24 12:26:04.060522\n"
     ]
    }
   ],
   "source": [
    "print(f'Finished running notebook: {datetime.datetime.utcnow()}')"
   ]
  }
 ],
 "metadata": {
  "kernelspec": {
   "display_name": "artificial_ml",
   "language": "python",
   "name": "artificial_ml"
  },
  "language_info": {
   "codemirror_mode": {
    "name": "ipython",
    "version": 3
   },
   "file_extension": ".py",
   "mimetype": "text/x-python",
   "name": "python",
   "nbconvert_exporter": "python",
   "pygments_lexer": "ipython3",
   "version": "3.7.2"
  },
  "toc": {
   "base_numbering": 1,
   "nav_menu": {},
   "number_sections": true,
   "sideBar": true,
   "skip_h1_title": false,
   "title_cell": "Table of Contents",
   "title_sidebar": "Contents",
   "toc_cell": false,
   "toc_position": {},
   "toc_section_display": true,
   "toc_window_display": true
  }
 },
 "nbformat": 4,
 "nbformat_minor": 2
}
